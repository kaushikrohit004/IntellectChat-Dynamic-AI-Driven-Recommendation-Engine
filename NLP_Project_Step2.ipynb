{
  "cells": [
    {
      "cell_type": "markdown",
      "metadata": {
        "id": "b7sKGM2tOikK"
      },
      "source": [
        "## Installing / importing required libraries"
      ]
    },
    {
      "cell_type": "code",
      "execution_count": null,
      "metadata": {
        "id": "G3UWn0j84RvI"
      },
      "outputs": [],
      "source": [
        "# !pip3 install surprise whoosh sentence_transformers recommenders tf-slim"
      ]
    },
    {
      "cell_type": "code",
      "execution_count": null,
      "metadata": {
        "id": "1gpakRw3Gs3L"
      },
      "outputs": [],
      "source": [
        "import math\n",
        "import os\n",
        "import pickle\n",
        "\n",
        "import json\n",
        "import logging\n",
        "import sys\n",
        "import time\n",
        "\n",
        "import numpy as np\n",
        "import pandas as pd\n",
        "from matplotlib import pyplot as plt\n",
        "from scipy import stats\n",
        "from sklearn.ensemble import GradientBoostingRegressor as GBRT\n",
        "from sklearn.ensemble import RandomForestRegressor as RFR\n",
        "from sklearn.metrics import mean_absolute_error as mae\n",
        "from sklearn.metrics import mean_squared_error as mse\n",
        "from sklearn.model_selection import train_test_split as tts\n",
        "\n",
        "from surprise import SVD, Dataset, KNNBaseline, Reader, SVDpp\n",
        "from tqdm import tqdm\n",
        "from tqdm.auto import tqdm as tqdm_pandas\n",
        "\n",
        "from sentence_transformers import SentenceTransformer\n",
        "from tqdm import trange, tqdm\n",
        "from whoosh import fields, index, qparser, scoring\n",
        "\n",
        "from recommenders.models.ncf.ncf_singlenode import NCF\n",
        "from recommenders.models.ncf.dataset import Dataset as NCFDataset\n",
        "\n",
        "np.random.seed(42)"
      ]
    },
    {
      "cell_type": "markdown",
      "metadata": {
        "id": "RnOkaub7pBh9"
      },
      "source": [
        "## Mount google drive and set path for dataset"
      ]
    },
    {
      "cell_type": "code",
      "execution_count": null,
      "metadata": {
        "id": "u5SjM9rQ3ZNS"
      },
      "outputs": [],
      "source": [
        "# from google.colab import drive\n",
        "# drive.mount('/content/drive')\n",
        "DATAPATH = '/common/users/jrp328/data/'"
      ]
    },
    {
      "cell_type": "markdown",
      "metadata": {
        "id": "5XhpSV0Kj_0v"
      },
      "source": [
        "## True to train models\n",
        "## False to use preloaded models"
      ]
    },
    {
      "cell_type": "code",
      "execution_count": null,
      "metadata": {
        "id": "OHREM7yEiZ_Y"
      },
      "outputs": [],
      "source": [
        "REGENERATE = True\n",
        "CREATE_INDEX = False"
      ]
    },
    {
      "cell_type": "markdown",
      "metadata": {
        "id": "GlRFeQK4j4BA"
      },
      "source": [
        "## Setting up schema and whoosh parser"
      ]
    },
    {
      "cell_type": "code",
      "execution_count": null,
      "metadata": {
        "id": "Y75WT3cij2uO"
      },
      "outputs": [],
      "source": [
        "schema = fields.Schema(movie_id=fields.KEYWORD(stored=True, scorable=True),\n",
        "                       critic_id=fields.KEYWORD(stored=True, scorable=True),\n",
        "                       score=fields.NUMERIC(stored=True),\n",
        "                       review=fields.TEXT(stored=True),\n",
        "                       freshness=fields.KEYWORD(scorable=True))\n",
        "whoosh_parser = qparser.MultifieldParser(['movie_id', 'review'], schema=schema)\n",
        "try:\n",
        "    searcher = index.open_dir(DATAPATH + 'index').searcher(weighting=scoring.BM25F)\n",
        "except index.EmptyIndexError:\n",
        "    print(f'No index found in {DATAPATH} index')"
      ]
    },
    {
      "cell_type": "markdown",
      "metadata": {
        "id": "CqcdVEKpndX1"
      },
      "source": [
        "## Utility functions"
      ]
    },
    {
      "cell_type": "code",
      "execution_count": null,
      "metadata": {
        "id": "-h9ViExqncXr"
      },
      "outputs": [],
      "source": [
        "def timeit(func):\n",
        "    def wrapper(*args, **kwargs):\n",
        "        start = time.time()\n",
        "        result = func(*args, **kwargs)\n",
        "        print(f'{func.__name__} took {round(time.time()-start)} seconds to complete')\n",
        "        return result\n",
        "    return wrapper\n",
        "\n",
        "def get_average_score(x, y, model, n=100):\n",
        "    rmses = []\n",
        "    maes = []\n",
        "    for _ in trange(n, leave=False, desc='running models'):\n",
        "        x_train, x_test, y_train, y_test = tts(x, y, test_size=0.1)\n",
        "        model.fit(x_train, y_train)\n",
        "        predictions = model.predict(x_test)\n",
        "        rmses.append(math.sqrt(mse(y_test, predictions)))\n",
        "        maes.append(mae(y_test, predictions))\n",
        "    rmses = np.array(rmses)\n",
        "    maes = np.array(maes)\n",
        "    print(f'getting average metrics on {n} {type(model).__name__}s')\n",
        "    print(f'avg RMSE: {round(rmses.mean(), 4)}, std: {round(np.std(rmses), 3)}')\n",
        "    print(f'avg MAE:  {round(maes.mean(), 4)}, std: {round(np.std(maes), 3)}')\n",
        "    return rmses"
      ]
    },
    {
      "cell_type": "markdown",
      "metadata": {
        "id": "FQUXH_2AoglW"
      },
      "source": [
        "## Model configurations"
      ]
    },
    {
      "cell_type": "code",
      "execution_count": null,
      "metadata": {
        "colab": {
          "base_uri": "https://localhost:8080/"
        },
        "id": "hxNGC8qlob-J",
        "outputId": "a1c706b8-2583-467e-d815-fc2ff8dcef98"
      },
      "outputs": [
        {
          "name": "stderr",
          "output_type": "stream",
          "text": [
            "INFO:sentence_transformers.SentenceTransformer:Load pretrained SentenceTransformer: stsb-roberta-large\n",
            "INFO:sentence_transformers.SentenceTransformer:Use pytorch device: cuda\n"
          ]
        }
      ],
      "source": [
        "model_features = ['cf_score',\n",
        "                  'difference',\n",
        "                  'dot_product',\n",
        "                  'meta_genre',\n",
        "                  'meta_people',\n",
        "                  'meta_description',\n",
        "                  'meta_title',\n",
        "                  'meta_runtime',\n",
        "                  'meta_date',\n",
        "                  'meta_audience_score',\n",
        "                  'meta_critics_score',\n",
        "                  'meta_amount_critics',\n",
        "                  'meta_amount_users']\n",
        "\n",
        "num_bert_feats = 1024\n",
        "bc = SentenceTransformer('stsb-roberta-large') \n",
        "cf_model = 'ncf'\n",
        "outpath = DATAPATH + '/model_artifacts/sentiment/'"
      ]
    },
    {
      "cell_type": "markdown",
      "metadata": {
        "id": "p4mewhD6OrNq"
      },
      "source": [
        "## Loading files"
      ]
    },
    {
      "cell_type": "code",
      "execution_count": null,
      "metadata": {
        "id": "uEQVwwVtztsf"
      },
      "outputs": [],
      "source": [
        "conversations = json.load(open(DATAPATH + 'MovieSent.json', 'r'))\n",
        "movie_ids = json.load(open(DATAPATH + 'films_rt_ids.json', 'r'))\n",
        "movies_features = json.load(open(DATAPATH + 'films_features.json', 'r'))"
      ]
    },
    {
      "cell_type": "markdown",
      "metadata": {
        "id": "nwOLUb_0Ox-J"
      },
      "source": [
        "## creating indexes"
      ]
    },
    {
      "cell_type": "code",
      "execution_count": null,
      "metadata": {
        "id": "HSeK51JQzygs"
      },
      "outputs": [],
      "source": [
        "@timeit\n",
        "def indexing(df, index_name=DATAPATH + 'index'):\n",
        "    os.makedirs(index_name, exist_ok=True)\n",
        "    ix = index.create_in(index_name, schema)\n",
        "    writer = ix.writer()\n",
        "    print('Indexing reviews')\n",
        "    for _, review in tqdm(df.iterrows(), total=df.shape[0], desc='adding reviews into index'):\n",
        "        writer.add_document(\n",
        "            movie_id=review['movie_id'],\n",
        "            critic_id=review['critic_id'],\n",
        "            review=review['review'],\n",
        "            score=review['score'])\n",
        "    print('Committing reviews. This will take a while')\n",
        "    writer.commit()\n",
        "    \n",
        "df = pd.read_table(DATAPATH + 'reviews.tsv')\n",
        "if CREATE_INDEX:\n",
        "  indexing(df)"
      ]
    },
    {
      "cell_type": "markdown",
      "metadata": {
        "id": "ethttBR4O12T"
      },
      "source": [
        "## Data engineering and cleaning"
      ]
    },
    {
      "cell_type": "code",
      "execution_count": null,
      "metadata": {
        "id": "ZUHcW_P7H73T"
      },
      "outputs": [],
      "source": [
        "def entities_in_utterance(utterance):\n",
        "    \"\"\" extract entities from the utterance \"\"\"\n",
        "    if 'segments' not in utterance:\n",
        "        return set()\n",
        "    ents = set()\n",
        "    for segment in utterance['segments']:\n",
        "        entity_type = 'entityType' in segment['annotations'][0] and segment['annotations'][0]['entityType'] == 'MOVIE_OR_SERIES'\n",
        "        annotation_type = 'annotationType' in segment['annotations'][0] and segment['annotations'][0]['annotationType'] == 'ENTITY_NAME'\n",
        "        if entity_type and annotation_type:\n",
        "            if 'entityId' in segment['annotations'][0]:\n",
        "                ents.add(segment['annotations'][0]['entityId'])\n",
        "            else:\n",
        "                ents.add(segment['text'])\n",
        "    return ents\n",
        "\n",
        "\n",
        "def merge_utts(utterances):\n",
        "    \"\"\" merge utterances from the same speaker that apper in a row \"\"\"\n",
        "    cur_agent = utterances[0]['speaker']\n",
        "    result = ''\n",
        "    for utterance in utterances:\n",
        "        if utterance['speaker'] == cur_agent:\n",
        "            result += ' ' + utterance['text']\n",
        "        else:\n",
        "            result += ' ||| ' + utterance['text']\n",
        "            cur_agent = utterance['speaker']\n",
        "    return result.strip()\n",
        "\n",
        "\n",
        "def get_sentiment_from_utterance(utterance):\n",
        "    \"\"\" get the judge sentiment for the first entity in the utterance \"\"\"\n",
        "    for segment in utterance['segments']:\n",
        "        if 'annotations' in segment and 'sentiment' in segment['annotations'][0]:\n",
        "            intial_sentiment = segment['annotations'][0]['sentiment']\n",
        "            if np.isnan(intial_sentiment[0]):\n",
        "                return intial_sentiment[-1]\n",
        "            elif np.isnan(intial_sentiment[-1]):\n",
        "                return intial_sentiment[0]\n",
        "            return sum(intial_sentiment) / len(intial_sentiment)\n",
        "    print('sentiment not extracted from:', utterance)\n",
        "\n",
        "\n",
        "def sentiment_2_score(x):\n",
        "    \"\"\" convert [-3:+3] score to a [1:5] rating \"\"\"\n",
        "    try:\n",
        "        return round((2 * x + 9) / 3)\n",
        "    except Exception:\n",
        "        return np.nan\n",
        "\n",
        "\n",
        "def get_gbdt_conversations(conversations):\n",
        "    \"\"\" convert original json conversations into pandas df\n",
        "        and add estimated score\n",
        "    \"\"\"\n",
        "    zero_reviewed = []\n",
        "    for movie_id in movie_ids:\n",
        "        results = searcher.search(whoosh_parser.parse(f'movie_id:{movie_id}'), limit=None)\n",
        "        if len(results) == 0:\n",
        "            zero_reviewed.append(movie_id)\n",
        "\n",
        "    list_of_lines = []\n",
        "    for conversation in conversations:\n",
        "        entities = set()\n",
        "        line = {'critic_id': conversation['conversationId']}\n",
        "        for utterance in conversation['utterances']:\n",
        "            cur_ents = entities_in_utterance(utterance)\n",
        "            if utterance['speaker'] == 'USER' and 'segments' in utterance and len(cur_ents) == 1:\n",
        "                movie_id = list(cur_ents)[0]\n",
        "                movie_sentiment = sentiment_2_score(get_sentiment_from_utterance(utterance))\n",
        "                valid_id = movie_id not in entities and movie_id not in zero_reviewed and movie_id in movie_ids\n",
        "                valid_score = len(entities) < 2 or not np.isnan(movie_sentiment)\n",
        "                if valid_id and valid_score:\n",
        "                    if len(entities) == 0:\n",
        "                        line['first movie_id'] = movie_id\n",
        "                        line['first score'] = movie_sentiment\n",
        "                        line['first text'] = get_context(conversation, utterance)\n",
        "                    elif len(entities) == 1:\n",
        "                        line['second movie_id'] = movie_id\n",
        "                        line['second score'] = movie_sentiment\n",
        "                        line['second text'] = get_context(conversation, utterance)\n",
        "                        line['review'] = merge_utts(conversation['utterances'][:utterance['index'] + 1])\n",
        "                    elif len(entities) == 2:\n",
        "                        line['target movie_id'] = movie_id\n",
        "                        line['target score'] = movie_sentiment\n",
        "                        list_of_lines.append(line)\n",
        "                        break\n",
        "                    entities.add(movie_id)\n",
        "    return pd.DataFrame.from_records(list_of_lines)\n",
        "\n",
        "\n",
        "def get_context(conversation, utterance):\n",
        "    if utterance['index'] > 0 and conversation['utterances'][utterance['index'] - 1]['speaker'] == 'ASSISTANT':\n",
        "        text = conversation['utterances'][utterance['index'] - 1]['text'] + ' ||| ' + utterance['text']\n",
        "    else:\n",
        "        text = utterance['text']\n",
        "    return text\n"
      ]
    },
    {
      "cell_type": "markdown",
      "metadata": {
        "id": "2FiHwBeAO5Pq"
      },
      "source": [
        "## Training sentiment model"
      ]
    },
    {
      "cell_type": "code",
      "execution_count": null,
      "metadata": {
        "id": "ziYc98MHH7wC"
      },
      "outputs": [],
      "source": [
        "def create_sentiment_trainset(file):\n",
        "    \"\"\" use utterances from conversations that can't be used\n",
        "        for the final model to train sentiment estimator on them\n",
        "    \"\"\"\n",
        "    forbidden_pairs = []\n",
        "    for column in ['first movie_id', 'second movie_id', 'target movie_id']:\n",
        "        forbidden_pairs += [list(i) for i in df_conv[['critic_id', column]].values]\n",
        "\n",
        "    list_of_lines = []\n",
        "    for conversation in conversations:\n",
        "        for utterance in conversation['utterances']:\n",
        "            line = {'critic_id': conversation['conversationId']}\n",
        "            cur_ents = entities_in_utterance(utterance)\n",
        "            if utterance['speaker'] == 'USER' and 'segments' in utterance and len(cur_ents) == 1:\n",
        "                movie_id = list(cur_ents)[0]\n",
        "                movie_sentiment = sentiment_2_score(get_sentiment_from_utterance(utterance))\n",
        "                if [conversation['conversationId'], movie_id] not in forbidden_pairs and not np.isnan(movie_sentiment):\n",
        "                    line['movie_id'] = movie_id\n",
        "                    line['score'] = movie_sentiment\n",
        "                    line['text'] = get_context(conversation, utterance)\n",
        "                    list_of_lines.append(line)\n",
        "    trainset = pd.DataFrame.from_records(list_of_lines)\n",
        "    trainset[['text', 'score']].to_csv(file, sep='\\t', index=False)\n",
        "\n",
        "\n",
        "@timeit\n",
        "def train_estimator(sentiment_df):\n",
        "\n",
        "    # embed the train dataset\n",
        "    emb_path = outpath + 'trainset_embeddings.txt'\n",
        "    if REGENERATE or not os.path.exists(model_path):\n",
        "        print('Calculating embeddings')\n",
        "        sentiment_estimation_embeddings = bc.encode(sentiment_df['text'].to_list())\n",
        "        print('Embeddings calculated')\n",
        "        np.savetxt(emb_path, sentiment_estimation_embeddings)\n",
        "    sentiment_estimation_embeddings = np.loadtxt(emb_path)\n",
        "\n",
        "    # remove those few conversations which have score 3 to reduce noise\n",
        "    indexes = sentiment_df[sentiment_df['score'] == 3].index.to_list()\n",
        "    sentiment_df = sentiment_df[sentiment_df['score'] != 3]\n",
        "    sentiment_estimation_embeddings = [i for ind, i in enumerate(sentiment_estimation_embeddings) if ind not in indexes]\n",
        "\n",
        "    print('Fitting the estimator')\n",
        "    x_train, x_test, y_train, y_test = tts(sentiment_estimation_embeddings, sentiment_df['score'], test_size=0.1)\n",
        "    model = RFR(n_estimators=500, max_depth=10, n_jobs=-1)\n",
        "    model.fit(x_train, y_train)\n",
        "    print('Estimator fitted')\n",
        "\n",
        "    pickle.dump(model, open(model_path, 'wb'))\n",
        "    y_pred = model.predict(x_test)\n",
        "    print(f'sentiment estimator RMSE: {round(math.sqrt(mse(y_test, y_pred)), 3)}')\n",
        "    print(f'sentiment estimator  MAE: {round(mae(y_test, y_pred), 3)}')\n",
        "    print(f'sentiment estimator  R^2: {round(model.score(x_test, y_test), 3)}')\n"
      ]
    },
    {
      "cell_type": "code",
      "execution_count": null,
      "metadata": {
        "colab": {
          "base_uri": "https://localhost:8080/"
        },
        "id": "2tTxdPfPzSIO",
        "outputId": "0072cb64-9db2-401a-fee4-7fc27d3066aa"
      },
      "outputs": [
        {
          "name": "stdout",
          "output_type": "stream",
          "text": [
            "Calculating embeddings\n"
          ]
        },
        {
          "name": "stderr",
          "output_type": "stream",
          "text": [
            "Batches: 100%|██████████| 21/21 [00:03<00:00,  6.85it/s]\n"
          ]
        },
        {
          "name": "stdout",
          "output_type": "stream",
          "text": [
            "Embeddings calculated\n",
            "Fitting the estimator\n",
            "Estimator fitted\n",
            "sentiment estimator RMSE: 0.686\n",
            "sentiment estimator  MAE: 0.527\n",
            "sentiment estimator  R^2: 0.758\n",
            "train_estimator took 16 seconds to complete\n",
            "Encoding conversations\n",
            "Encoding done\n"
          ]
        }
      ],
      "source": [
        "df_conv = get_gbdt_conversations(conversations)\n",
        "model_path = outpath + 'estimator.pickle'\n",
        "trainset_path = outpath + 'trainset.tsv'\n",
        "\n",
        "os.makedirs(outpath, exist_ok=True)\n",
        "if REGENERATE or not os.path.exists(model_path):\n",
        "    if REGENERATE or not os.path.exists(trainset_path):\n",
        "        create_sentiment_trainset(trainset_path)\n",
        "    sentiment_df = pd.read_table(trainset_path)\n",
        "    train_estimator(sentiment_df)\n",
        "model = pickle.load(open(model_path, 'rb'))\n",
        "\n",
        "print('Encoding conversations')\n",
        "embeddings = bc.encode(df_conv['first text'].tolist() + df_conv['second text'].tolist(), show_progress_bar=False)\n",
        "df_conv['first score'] = model.predict(embeddings[:df_conv.shape[0]])\n",
        "df_conv['second score'] = model.predict(embeddings[df_conv.shape[0]:])\n",
        "print('Encoding done')\n",
        "\n",
        "df_conv.drop(['first text', 'second text'], axis=1, inplace=True)\n",
        "df_conv.to_csv(outpath + '/conversations_estimated.tsv', sep='\\t', index=False)"
      ]
    },
    {
      "cell_type": "markdown",
      "metadata": {
        "id": "TQxUEN2TO7uw"
      },
      "source": [
        "## Training CF model"
      ]
    },
    {
      "cell_type": "code",
      "execution_count": null,
      "metadata": {
        "id": "4cfYb9wVII3c"
      },
      "outputs": [],
      "source": [
        "def get_ranked_critics(movie_id, text):\n",
        "    ''' returns dict of ranked according to text critics with BM25 weights '''\n",
        "    query = whoosh_parser.parse(f'movie_id:{movie_id} AND (review:' + ' OR review:'.join(text.split()) + ')')\n",
        "    initial_list = [(i['critic_id'], i.score) for i in searcher.search(query, limit=None)]\n",
        "    if len(initial_list) > 0:\n",
        "        biggest_weight = initial_list[0][1]\n",
        "        return {i[0]: i[1] / biggest_weight for i in initial_list}\n",
        "    print(f'found 0 bm25 reviews for {movie_id}')\n",
        "    return {}\n",
        "\n",
        "\n",
        "def get_movie_critic_representation(row):\n",
        "    '''\n",
        "        returns movie vector, created using embeddings\n",
        "        of critics' reviews' and their BM25 weights\n",
        "    '''\n",
        "    critics_dict = get_ranked_critics(row.movie_id, row.review)\n",
        "    subdf = critics_reviews[critics_reviews['movie_id'] == row.movie_id]\n",
        "    subsubdf = subdf[subdf['critic_id'].isin(critics_dict.keys())]\n",
        "    if len(critics_dict) > 0:\n",
        "        encodings = bc.encode(subsubdf['review'].to_list(), show_progress_bar=False)\n",
        "        weights = [critics_dict[name] for name in subsubdf['critic_id'].to_list()]\n",
        "        weights = np.array(weights).reshape((len(weights), 1))\n",
        "        return (encodings * weights).mean(axis=0)\n",
        "    return np.zeros(num_bert_feats)\n",
        "\n",
        "\n",
        "@timeit\n",
        "def train_cf(df, model):\n",
        "    reader = Reader(rating_scale=(1, 5))\n",
        "    print('training ' + model)\n",
        "    if model == 'knn':\n",
        "        algo = KNNBaseline(sim_options={'name': 'cosine', 'user_based': True}, verbose=False)\n",
        "    elif model == 'svd':\n",
        "        algo = SVD(n_factors=500)\n",
        "    elif model == 'svdpp':\n",
        "        algo = SVDpp(n_factors=500)\n",
        "    data_train = Dataset.load_from_df(df, reader)\n",
        "    algo.fit(data_train.build_full_trainset())\n",
        "    pickle.dump(algo, open(outpath + f'cf_{model}.pkl', 'wb'))\n",
        "    \n",
        "def convert_to_cf_matrix(df):\n",
        "    ''' converts df_users into a standard records cf matrix '''\n",
        "    result = pd.DataFrame()\n",
        "    for number in ['first', 'second']:\n",
        "        temp = df[['critic_id', number + ' movie_id', number + ' score']].drop_duplicates()\n",
        "        temp = temp.rename(columns={number + ' movie_id': 'movie_id', number + ' score': 'score'})\n",
        "        result = result.append(temp)\n",
        "    return result\n",
        "            \n",
        "\n",
        "def get_cf_feature(df, model, REGENERATE):\n",
        "    if model == 'knn' or model == 'svd' or model == 'svdpp':\n",
        "        if not os.path.exists(outpath + f'cf_{model}.pkl') or REGENERATE:\n",
        "            df_users_cf = convert_to_cf_matrix(df)\n",
        "            df_cf = critics_reviews[['critic_id', 'movie_id', 'score']].append(df_users_cf).reset_index(drop=True).dropna()\n",
        "            train_cf(df_cf, model)\n",
        "        cf = pickle.load(open(outpath + f'cf_{model}.pkl', 'rb'))\n",
        "        df['cf_score'] = df.apply(lambda x: cf.predict(x['critic_id'], x['target movie_id']).est, axis=1)\n",
        "\n",
        "    elif model == 'ncf':\n",
        "        df_users_cf = convert_to_cf_matrix(df)\n",
        "        df_cf = critics_reviews[['critic_id', 'movie_id', 'score']].append(df_users_cf).reset_index(drop=True).dropna()\n",
        "        train_file = 'ncf_train.csv'\n",
        "        critic_ids, critic_id_map = pd.factorize(df_cf['critic_id'])\n",
        "        df_cf['critic_id'] = critic_ids\n",
        "        movie_ids, movie_id_map = pd.factorize(df_cf['movie_id'])\n",
        "        df_cf['movie_id'] = movie_ids\n",
        "        df_cf = df_cf.sort_values(by=['critic_id'])\n",
        "        df_cf.to_csv(train_file, index=False)\n",
        "        data_train = NCFDataset(train_file=train_file, col_user='critic_id', col_item='movie_id', col_rating='score')\n",
        "        algo = NCF (\n",
        "                n_users=data_train.n_users, \n",
        "                n_items=data_train.n_items,\n",
        "                model_type=\"GMF\",\n",
        "                n_factors=4,\n",
        "                layer_sizes=[16,8,4],\n",
        "                n_epochs=10,\n",
        "                batch_size=32,\n",
        "                learning_rate=1e-3,\n",
        "                verbose=10,\n",
        "                seed=42\n",
        "            )\n",
        "        algo.fit(data_train)\n",
        "        algo.save(dir_name=outpath+'/gmf')\n",
        "        algo = NCF (\n",
        "                n_users=data_train.n_users, \n",
        "                n_items=data_train.n_items,\n",
        "                model_type=\"MLP\",\n",
        "                n_factors=4,\n",
        "                layer_sizes=[16,8,4],\n",
        "                n_epochs=10,\n",
        "                batch_size=32,\n",
        "                learning_rate=1e-3,\n",
        "                verbose=10,\n",
        "                seed=42\n",
        "            )\n",
        "        algo.fit(data_train)\n",
        "        algo.save(dir_name=outpath+'/mlp')\n",
        "        algo = NCF (\n",
        "                n_users=data_train.n_users, \n",
        "                n_items=data_train.n_items,\n",
        "                model_type=\"NeuMF\",\n",
        "                n_factors=4,\n",
        "                layer_sizes=[16,8,4],\n",
        "                n_epochs=10,\n",
        "                batch_size=32,\n",
        "                learning_rate=1e-3,\n",
        "                verbose=10,\n",
        "                seed=42\n",
        "            )\n",
        "        algo.load(gmf_dir =outpath+\"/gmf\", mlp_dir=outpath+\"/mlp\", alpha=0.5)\n",
        "        algo.fit(data_train)\n",
        "        df['cf_score'] = df.apply(lambda x: algo.predict(np.where(x['critic_id'] == critic_id_map)[0][0], np.where(x['target movie_id'] == movie_id_map)[0][0]), axis=1)\n",
        "\n",
        "    print(f\"RMSE for CF: {math.sqrt(mse(df['cf_score'], df['target score']))}\")\n",
        "    print(f\" MAE for CF: {mae(df['cf_score'], df['target score'])}\")\n",
        "    df.to_csv(outpath + 'conversations_w_cf.tsv', sep='\\t', index=False)\n",
        "\n",
        "@timeit\n",
        "def get_users_emb(df, each_turn='full_text'):\n",
        "    '''\n",
        "        options for embedding calculation:\n",
        "            each_turn: takes the average embedding of turns' embeddings\n",
        "            full_text: takes the embedding of all text concatenated\n",
        "    '''\n",
        "    print('getting user embedding')\n",
        "    columns = [f'user_{i}' for i in range(num_bert_feats)]\n",
        "    if each_turn == 'each_turn':\n",
        "        embedded = [bc.encode(i, show_progress_bar=False).mean(axis=0) for i in df['review'].progress_apply(lambda x: x.split(' ||| ')).to_list()]\n",
        "        user_emb = pd.DataFrame.from_records(embedded, columns=columns)\n",
        "    else:\n",
        "        user_emb = pd.DataFrame.from_records(bc.encode(df['review'].to_list(), show_progress_bar=False), columns=columns)\n",
        "    user_emb.to_csv(outpath + f'users_emb_{each_turn}.tsv', sep='\\t', index=False)\n",
        "\n",
        "\n",
        "@timeit\n",
        "def get_critics_emb(df):\n",
        "    print('getting critic embedding')\n",
        "    tqdm_pandas.pandas(desc='critics_emb')\n",
        "    df_tmp = df.rename(columns={'target movie_id': 'movie_id'}).reset_index(drop=True)\n",
        "    df_tmp = df_tmp.progress_apply(get_movie_critic_representation, axis=1)\n",
        "    critics_emb = pd.DataFrame.from_records(df_tmp, columns=[f'critics_emb_{i}' for i in range(num_bert_feats)])\n",
        "    critics_emb.to_csv(outpath + 'critics_emb.tsv', sep='\\t', index=False)\n",
        "\n",
        "\n",
        "@timeit\n",
        "def get_metadata_features(df, user_vectors):\n",
        "    print('getting metadata features')\n",
        "    new_feats = []\n",
        "    for i, user in enumerate(tqdm(user_vectors, desc='metadata features')):\n",
        "        row = df.iloc[i].copy()\n",
        "        current_movie_features = movies_features[row['target movie_id']]\n",
        "        for feature in ['genre', 'people', 'description', 'title']:\n",
        "            if feature not in current_movie_features or current_movie_features[feature] == []:\n",
        "                print(f\"no {feature} for {row['target movie_id']}\")\n",
        "        if 'audience_score' not in current_movie_features or 'critic_score' not in current_movie_features:\n",
        "            print('no scores for ', row['target movie_id'])\n",
        "            row['meta_audience_score'] = np.nan\n",
        "            row['meta_critics_score'] = np.nan\n",
        "        else:\n",
        "            row['meta_audience_score'] = current_movie_features['audience_score'] / 100\n",
        "            row['meta_critics_score'] = current_movie_features['critic_score'] / 100\n",
        "\n",
        "        to_encode = [', '.join(current_movie_features['genre']),\n",
        "                     ', '.join(current_movie_features['people'][:10]),\n",
        "                     current_movie_features['description'],\n",
        "                     current_movie_features['title']]\n",
        "        for i in range(len(to_encode)):\n",
        "            if len(to_encode[i]) == 0:\n",
        "                to_encode[i] = 'None'\n",
        "        genre_vector, people_vector, descr_vector, title_vector = bc.encode(to_encode, show_progress_bar=False)\n",
        "\n",
        "        row['meta_date'] = current_movie_features['in theaters']\n",
        "        row['meta_runtime'] = current_movie_features['runtime']\n",
        "        row['meta_amount_critics'] = current_movie_features['amount of critics']\n",
        "        row['meta_amount_users'] = current_movie_features['amount of users']\n",
        "        row['meta_genre'] = np.dot(user, np.transpose(genre_vector))\n",
        "        row['meta_people'] = np.dot(user, np.transpose(people_vector))\n",
        "        row['meta_description'] = np.dot(user, np.transpose(descr_vector))\n",
        "        row['meta_title'] = np.dot(user, np.transpose(title_vector))\n",
        "        new_feats.append(row)\n",
        "    return pd.DataFrame.from_records(new_feats)\n",
        "\n",
        "\n",
        "def get_all_features(df_users, model, regenerate=False):\n",
        "    \"\"\" prepare a dataframe with all the features \"\"\"\n",
        "\n",
        "    print('generating data')\n",
        "    if not os.path.exists(outpath + 'conversations_w_cf.tsv') or regenerate:\n",
        "        get_cf_feature(df_users, model, regenerate)\n",
        "    if not os.path.exists(outpath + 'users_emb_full_text.tsv') or regenerate:\n",
        "        get_users_emb(df_users)\n",
        "    if not os.path.exists(outpath + 'critics_emb.tsv') or regenerate:\n",
        "        get_critics_emb(df_users)\n",
        "\n",
        "    df_users = pd.read_table(outpath + 'conversations_w_cf.tsv')\n",
        "    user_vectors = pd.read_table(outpath + 'users_emb_full_text.tsv').values.tolist()\n",
        "    critics_vectors = pd.read_table(outpath + 'critics_emb.tsv').values.tolist()\n",
        "\n",
        "    earth_movers_distance = [[stats.wasserstein_distance(critics_vectors[i], user)] for i, user in enumerate(user_vectors)]\n",
        "    dot_product = [[np.dot(user, np.transpose(critics_vectors[i]))] for i, user in enumerate(user_vectors)]\n",
        "    emd_df = pd.DataFrame.from_records(earth_movers_distance, columns=['difference'])\n",
        "    dp_df = pd.DataFrame.from_records(dot_product, columns=['dot_product'])\n",
        "\n",
        "    df_users = pd.concat([df_users.reset_index(drop=True), emd_df, dp_df], axis=1)\n",
        "    df_all_features = get_metadata_features(df_users, user_vectors)\n",
        "    df_all_features.to_csv(df_all_features_path, sep='\\t', index=False)"
      ]
    },
    {
      "cell_type": "markdown",
      "metadata": {
        "id": "va-pZf8iO_Fk"
      },
      "source": [
        "## GBRT/Final recommender model"
      ]
    },
    {
      "cell_type": "code",
      "execution_count": null,
      "metadata": {
        "colab": {
          "base_uri": "https://localhost:8080/"
        },
        "id": "1TpQ9VOTzK6w",
        "outputId": "60344a06-1ff7-4435-a4c1-05fdcfad363b"
      },
      "outputs": [
        {
          "name": "stdout",
          "output_type": "stream",
          "text": [
            "generating data\n"
          ]
        },
        {
          "name": "stderr",
          "output_type": "stream",
          "text": [
            "INFO:recommenders.models.ncf.dataset:Indexing ncf_train.csv ...\n",
            "2022-05-10 18:08:57.869451: I tensorflow/core/common_runtime/gpu/gpu_device.cc:1525] Created device /job:localhost/replica:0/task:0/device:GPU:0 with 8425 MB memory:  -> device: 0, name: NVIDIA RTX A4000, pci bus id: 0000:1a:00.0, compute capability: 8.6\n",
            "2022-05-10 18:08:57.870506: I tensorflow/core/common_runtime/gpu/gpu_device.cc:1525] Created device /job:localhost/replica:0/task:0/device:GPU:1 with 13004 MB memory:  -> device: 1, name: NVIDIA RTX A4000, pci bus id: 0000:1b:00.0, compute capability: 8.6\n",
            "2022-05-10 18:08:57.871476: I tensorflow/core/common_runtime/gpu/gpu_device.cc:1525] Created device /job:localhost/replica:0/task:0/device:GPU:2 with 11375 MB memory:  -> device: 2, name: NVIDIA RTX A4000, pci bus id: 0000:60:00.0, compute capability: 8.6\n",
            "2022-05-10 18:08:57.872181: I tensorflow/core/common_runtime/gpu/gpu_device.cc:1525] Created device /job:localhost/replica:0/task:0/device:GPU:3 with 129 MB memory:  -> device: 3, name: NVIDIA RTX A4000, pci bus id: 0000:b1:00.0, compute capability: 8.6\n",
            "2022-05-10 18:08:57.872941: I tensorflow/core/common_runtime/gpu/gpu_device.cc:1525] Created device /job:localhost/replica:0/task:0/device:GPU:4 with 1913 MB memory:  -> device: 4, name: NVIDIA RTX A4000, pci bus id: 0000:da:00.0, compute capability: 8.6\n",
            "2022-05-10 18:08:57.873741: I tensorflow/core/common_runtime/gpu/gpu_device.cc:1525] Created device /job:localhost/replica:0/task:0/device:GPU:5 with 3963 MB memory:  -> device: 5, name: NVIDIA RTX A4000, pci bus id: 0000:db:00.0, compute capability: 8.6\n",
            "INFO:recommenders.models.ncf.ncf_singlenode:Epoch 10 [412.63s]: train_loss = 0.283011 \n",
            "2022-05-10 19:15:02.799274: I tensorflow/core/common_runtime/gpu/gpu_device.cc:1525] Created device /job:localhost/replica:0/task:0/device:GPU:0 with 8425 MB memory:  -> device: 0, name: NVIDIA RTX A4000, pci bus id: 0000:1a:00.0, compute capability: 8.6\n",
            "2022-05-10 19:15:02.800333: I tensorflow/core/common_runtime/gpu/gpu_device.cc:1525] Created device /job:localhost/replica:0/task:0/device:GPU:1 with 13004 MB memory:  -> device: 1, name: NVIDIA RTX A4000, pci bus id: 0000:1b:00.0, compute capability: 8.6\n",
            "2022-05-10 19:15:02.801292: I tensorflow/core/common_runtime/gpu/gpu_device.cc:1525] Created device /job:localhost/replica:0/task:0/device:GPU:2 with 11375 MB memory:  -> device: 2, name: NVIDIA RTX A4000, pci bus id: 0000:60:00.0, compute capability: 8.6\n",
            "2022-05-10 19:15:02.801983: I tensorflow/core/common_runtime/gpu/gpu_device.cc:1525] Created device /job:localhost/replica:0/task:0/device:GPU:3 with 129 MB memory:  -> device: 3, name: NVIDIA RTX A4000, pci bus id: 0000:b1:00.0, compute capability: 8.6\n",
            "2022-05-10 19:15:02.802739: I tensorflow/core/common_runtime/gpu/gpu_device.cc:1525] Created device /job:localhost/replica:0/task:0/device:GPU:4 with 1913 MB memory:  -> device: 4, name: NVIDIA RTX A4000, pci bus id: 0000:da:00.0, compute capability: 8.6\n",
            "2022-05-10 19:15:02.803541: I tensorflow/core/common_runtime/gpu/gpu_device.cc:1525] Created device /job:localhost/replica:0/task:0/device:GPU:5 with 3963 MB memory:  -> device: 5, name: NVIDIA RTX A4000, pci bus id: 0000:db:00.0, compute capability: 8.6\n",
            "INFO:recommenders.models.ncf.ncf_singlenode:Epoch 10 [404.85s]: train_loss = 0.692958 \n"
          ]
        },
        {
          "name": "stdout",
          "output_type": "stream",
          "text": [
            "INFO:tensorflow:Restoring parameters from /common/users/jrp328/data//model_artifacts/sentiment//gmf/model.ckpt\n"
          ]
        },
        {
          "name": "stderr",
          "output_type": "stream",
          "text": [
            "2022-05-10 20:29:30.078176: I tensorflow/core/common_runtime/gpu/gpu_device.cc:1525] Created device /job:localhost/replica:0/task:0/device:GPU:0 with 8425 MB memory:  -> device: 0, name: NVIDIA RTX A4000, pci bus id: 0000:1a:00.0, compute capability: 8.6\n",
            "2022-05-10 20:29:30.079252: I tensorflow/core/common_runtime/gpu/gpu_device.cc:1525] Created device /job:localhost/replica:0/task:0/device:GPU:1 with 13004 MB memory:  -> device: 1, name: NVIDIA RTX A4000, pci bus id: 0000:1b:00.0, compute capability: 8.6\n",
            "2022-05-10 20:29:30.080220: I tensorflow/core/common_runtime/gpu/gpu_device.cc:1525] Created device /job:localhost/replica:0/task:0/device:GPU:2 with 11375 MB memory:  -> device: 2, name: NVIDIA RTX A4000, pci bus id: 0000:60:00.0, compute capability: 8.6\n",
            "2022-05-10 20:29:30.080915: I tensorflow/core/common_runtime/gpu/gpu_device.cc:1525] Created device /job:localhost/replica:0/task:0/device:GPU:3 with 129 MB memory:  -> device: 3, name: NVIDIA RTX A4000, pci bus id: 0000:b1:00.0, compute capability: 8.6\n",
            "2022-05-10 20:29:30.081663: I tensorflow/core/common_runtime/gpu/gpu_device.cc:1525] Created device /job:localhost/replica:0/task:0/device:GPU:4 with 1913 MB memory:  -> device: 4, name: NVIDIA RTX A4000, pci bus id: 0000:da:00.0, compute capability: 8.6\n",
            "2022-05-10 20:29:30.082448: I tensorflow/core/common_runtime/gpu/gpu_device.cc:1525] Created device /job:localhost/replica:0/task:0/device:GPU:5 with 3963 MB memory:  -> device: 5, name: NVIDIA RTX A4000, pci bus id: 0000:db:00.0, compute capability: 8.6\n",
            "INFO:tensorflow:Restoring parameters from /common/users/jrp328/data//model_artifacts/sentiment//gmf/model.ckpt\n"
          ]
        },
        {
          "name": "stdout",
          "output_type": "stream",
          "text": [
            "INFO:tensorflow:Restoring parameters from /common/users/jrp328/data//model_artifacts/sentiment//mlp/model.ckpt\n"
          ]
        },
        {
          "name": "stderr",
          "output_type": "stream",
          "text": [
            "INFO:tensorflow:Restoring parameters from /common/users/jrp328/data//model_artifacts/sentiment//mlp/model.ckpt\n",
            "INFO:recommenders.models.ncf.ncf_singlenode:Epoch 10 [523.92s]: train_loss = 0.265442 \n"
          ]
        },
        {
          "name": "stdout",
          "output_type": "stream",
          "text": [
            "RMSE for CF: 3.3684147712322123\n",
            " MAE for CF: 3.1627368382730725\n",
            "getting user embedding\n",
            "get_users_emb took 2 seconds to complete\n",
            "getting critic embedding\n"
          ]
        },
        {
          "name": "stderr",
          "output_type": "stream",
          "text": [
            "critics_emb: 100%|██████████| 236/236 [04:25<00:00,  1.13s/it]\n"
          ]
        },
        {
          "name": "stdout",
          "output_type": "stream",
          "text": [
            "get_critics_emb took 267 seconds to complete\n",
            "getting metadata features\n"
          ]
        },
        {
          "name": "stderr",
          "output_type": "stream",
          "text": [
            "metadata features:  69%|██████▉   | 163/236 [00:07<00:02, 26.84it/s]"
          ]
        },
        {
          "name": "stdout",
          "output_type": "stream",
          "text": [
            "no people for star_wars_episode_vii_the_force_awakens\n"
          ]
        },
        {
          "name": "stderr",
          "output_type": "stream",
          "text": [
            "metadata features: 100%|██████████| 236/236 [00:10<00:00, 21.78it/s]\n"
          ]
        },
        {
          "name": "stdout",
          "output_type": "stream",
          "text": [
            "get_metadata_features took 11 seconds to complete\n"
          ]
        },
        {
          "name": "stderr",
          "output_type": "stream",
          "text": [
            "                                                               \r"
          ]
        },
        {
          "name": "stdout",
          "output_type": "stream",
          "text": [
            "getting average metrics on 10 GradientBoostingRegressors\n",
            "avg RMSE: 1.2747, std: 0.187\n",
            "avg MAE:  0.9583, std: 0.189\n",
            "RMSE: 1.2320972426235879\n",
            " MAE: 0.956936994872342\n",
            "Feature importances:\n",
            "0.1609 meta_critics_score\n",
            "0.137 dot_product\n",
            "0.1072 difference\n",
            "0.1023 meta_amount_critics\n",
            "0.0984 meta_description\n",
            "0.089 meta_people\n",
            "0.0786 cf_score\n",
            "0.0701 meta_genre\n",
            "0.0593 meta_audience_score\n",
            "0.0462 meta_title\n",
            "0.037 meta_amount_users\n",
            "0.0085 meta_date\n",
            "0.0055 meta_runtime\n"
          ]
        },
        {
          "name": "stderr",
          "output_type": "stream",
          "text": [
            "                                                               \r"
          ]
        },
        {
          "name": "stdout",
          "output_type": "stream",
          "text": [
            "getting average metrics on 20 GradientBoostingRegressors\n",
            "avg RMSE: 1.3238, std: 0.17\n",
            "avg MAE:  1.0145, std: 0.146\n",
            "RMSE: 1.392793021473241\n",
            " MAE: 1.0704963740728275\n",
            "Feature importances:\n",
            "0.1604 meta_critics_score\n",
            "0.1316 dot_product\n",
            "0.1106 difference\n",
            "0.11 meta_amount_critics\n",
            "0.0929 meta_description\n",
            "0.0836 cf_score\n",
            "0.0786 meta_people\n",
            "0.075 meta_genre\n",
            "0.0585 meta_audience_score\n",
            "0.0429 meta_title\n",
            "0.0287 meta_amount_users\n",
            "0.0163 meta_date\n",
            "0.0109 meta_runtime\n"
          ]
        },
        {
          "name": "stderr",
          "output_type": "stream",
          "text": [
            "                                                               \r"
          ]
        },
        {
          "name": "stdout",
          "output_type": "stream",
          "text": [
            "getting average metrics on 30 GradientBoostingRegressors\n",
            "avg RMSE: 1.3504, std: 0.163\n",
            "avg MAE:  1.0339, std: 0.147\n",
            "RMSE: 1.4310411884016554\n",
            " MAE: 1.081935881773723\n",
            "Feature importances:\n",
            "0.1595 meta_critics_score\n",
            "0.1307 dot_product\n",
            "0.116 meta_amount_critics\n",
            "0.1119 difference\n",
            "0.0938 meta_description\n",
            "0.0824 cf_score\n",
            "0.0822 meta_people\n",
            "0.0664 meta_genre\n",
            "0.0587 meta_audience_score\n",
            "0.0426 meta_title\n",
            "0.0326 meta_amount_users\n",
            "0.012 meta_runtime\n",
            "0.0113 meta_date\n"
          ]
        },
        {
          "name": "stderr",
          "output_type": "stream",
          "text": [
            "                                                               \r"
          ]
        },
        {
          "name": "stdout",
          "output_type": "stream",
          "text": [
            "getting average metrics on 40 GradientBoostingRegressors\n",
            "avg RMSE: 1.4054, std: 0.203\n",
            "avg MAE:  1.0771, std: 0.187\n",
            "RMSE: 1.3907629121838092\n",
            " MAE: 1.0622675588402875\n",
            "Feature importances:\n",
            "0.1667 meta_critics_score\n",
            "0.1293 dot_product\n",
            "0.1108 meta_amount_critics\n",
            "0.105 difference\n",
            "0.0948 meta_genre\n",
            "0.0845 meta_people\n",
            "0.0822 cf_score\n",
            "0.0682 meta_description\n",
            "0.057 meta_audience_score\n",
            "0.0465 meta_title\n",
            "0.0327 meta_amount_users\n",
            "0.0117 meta_runtime\n",
            "0.0107 meta_date\n"
          ]
        },
        {
          "name": "stderr",
          "output_type": "stream",
          "text": [
            "                                                               \r"
          ]
        },
        {
          "name": "stdout",
          "output_type": "stream",
          "text": [
            "getting average metrics on 50 GradientBoostingRegressors\n",
            "avg RMSE: 1.4106, std: 0.199\n",
            "avg MAE:  1.0767, std: 0.178\n",
            "RMSE: 1.456210419929647\n",
            " MAE: 1.125259393223244\n",
            "Feature importances:\n",
            "0.1583 meta_critics_score\n",
            "0.1312 dot_product\n",
            "0.11 meta_amount_critics\n",
            "0.1063 difference\n",
            "0.091 meta_genre\n",
            "0.0848 meta_people\n",
            "0.0841 cf_score\n",
            "0.077 meta_description\n",
            "0.0594 meta_audience_score\n",
            "0.0442 meta_title\n",
            "0.0279 meta_amount_users\n",
            "0.014 meta_date\n",
            "0.0117 meta_runtime\n"
          ]
        },
        {
          "name": "stderr",
          "output_type": "stream",
          "text": [
            "                                                               \r"
          ]
        },
        {
          "name": "stdout",
          "output_type": "stream",
          "text": [
            "getting average metrics on 60 GradientBoostingRegressors\n",
            "avg RMSE: 1.3575, std: 0.181\n",
            "avg MAE:  1.0456, std: 0.158\n",
            "RMSE: 1.4593400744523164\n",
            " MAE: 1.106907441155555\n",
            "Feature importances:\n",
            "0.1607 meta_critics_score\n",
            "0.128 dot_product\n",
            "0.1184 meta_amount_critics\n",
            "0.1076 difference\n",
            "0.1058 meta_description\n",
            "0.0811 cf_score\n",
            "0.0764 meta_people\n",
            "0.0627 meta_genre\n",
            "0.0588 meta_audience_score\n",
            "0.0438 meta_title\n",
            "0.0331 meta_amount_users\n",
            "0.0118 meta_runtime\n",
            "0.0118 meta_date\n"
          ]
        },
        {
          "name": "stderr",
          "output_type": "stream",
          "text": [
            "                                                               \r"
          ]
        },
        {
          "name": "stdout",
          "output_type": "stream",
          "text": [
            "getting average metrics on 70 GradientBoostingRegressors\n",
            "avg RMSE: 1.4296, std: 0.23\n",
            "avg MAE:  1.1006, std: 0.194\n",
            "RMSE: 1.4368372681144552\n",
            " MAE: 1.1063454740674026\n",
            "Feature importances:\n",
            "0.1604 meta_critics_score\n",
            "0.1298 dot_product\n",
            "0.112 difference\n",
            "0.1083 meta_amount_critics\n",
            "0.0911 meta_genre\n",
            "0.084 cf_score\n",
            "0.0808 meta_people\n",
            "0.0797 meta_description\n",
            "0.0582 meta_audience_score\n",
            "0.0407 meta_title\n",
            "0.0325 meta_amount_users\n",
            "0.012 meta_runtime\n",
            "0.0105 meta_date\n"
          ]
        },
        {
          "name": "stderr",
          "output_type": "stream",
          "text": [
            "                                                               \r"
          ]
        },
        {
          "name": "stdout",
          "output_type": "stream",
          "text": [
            "getting average metrics on 80 GradientBoostingRegressors\n",
            "avg RMSE: 1.377, std: 0.222\n",
            "avg MAE:  1.0627, std: 0.201\n",
            "RMSE: 1.4315346313446995\n",
            " MAE: 1.0927213571580847\n",
            "Feature importances:\n",
            "0.1591 meta_critics_score\n",
            "0.1366 dot_product\n",
            "0.111 difference\n",
            "0.1059 meta_amount_critics\n",
            "0.0862 meta_genre\n",
            "0.0821 cf_score\n",
            "0.0814 meta_people\n",
            "0.0777 meta_description\n",
            "0.0575 meta_audience_score\n",
            "0.0474 meta_title\n",
            "0.0285 meta_amount_users\n",
            "0.0146 meta_date\n",
            "0.012 meta_runtime\n"
          ]
        },
        {
          "name": "stderr",
          "output_type": "stream",
          "text": [
            "                                                               \r"
          ]
        },
        {
          "name": "stdout",
          "output_type": "stream",
          "text": [
            "getting average metrics on 90 GradientBoostingRegressors\n",
            "avg RMSE: 1.3973, std: 0.214\n",
            "avg MAE:  1.0625, std: 0.177\n",
            "RMSE: 1.4254934043671508\n",
            " MAE: 1.0875141206162946\n",
            "Feature importances:\n",
            "0.1616 meta_critics_score\n",
            "0.1334 dot_product\n",
            "0.1124 meta_amount_critics\n",
            "0.1087 difference\n",
            "0.0894 meta_genre\n",
            "0.0843 meta_people\n",
            "0.0838 cf_score\n",
            "0.0659 meta_description\n",
            "0.0563 meta_audience_score\n",
            "0.0472 meta_title\n",
            "0.0335 meta_amount_users\n",
            "0.0121 meta_date\n",
            "0.0112 meta_runtime\n"
          ]
        },
        {
          "name": "stderr",
          "output_type": "stream",
          "text": [
            "                                                                 \r"
          ]
        },
        {
          "name": "stdout",
          "output_type": "stream",
          "text": [
            "getting average metrics on 100 GradientBoostingRegressors\n",
            "avg RMSE: 1.3632, std: 0.193\n",
            "avg MAE:  1.041, std: 0.173\n",
            "RMSE: 1.425271516432077\n",
            " MAE: 1.0820570674840448\n",
            "Feature importances:\n",
            "0.1592 meta_critics_score\n",
            "0.13 dot_product\n",
            "0.1074 difference\n",
            "0.1067 meta_amount_critics\n",
            "0.091 meta_genre\n",
            "0.0818 meta_people\n",
            "0.0815 cf_score\n",
            "0.0812 meta_description\n",
            "0.0573 meta_audience_score\n",
            "0.0455 meta_title\n",
            "0.0358 meta_amount_users\n",
            "0.0114 meta_runtime\n",
            "0.0111 meta_date\n"
          ]
        }
      ],
      "source": [
        "critics_reviews = pd.read_table(DATAPATH + 'reviews.tsv').drop(['fresh'], axis=1).dropna()\n",
        "\n",
        "df_users = pd.read_table(outpath + 'conversations_estimated.tsv')\n",
        "df_users = df_users[df_users['target movie_id'].isin(movies_features)]\n",
        "\n",
        "df_all_features_path = outpath + 'conversations_w_features.tsv'\n",
        "if not os.path.exists(df_all_features_path) or REGENERATE:\n",
        "    get_all_features(df_users, cf_model, REGENERATE)\n",
        "df_all_features = pd.read_table(df_all_features_path)\n",
        "\n",
        "rmse_res, mae_res = [], []\n",
        "for n_est in range(10, 101, 10): \n",
        "  # for tree_depth in [5, 7, 9, 11, 20]:\n",
        "  model = GBRT(n_estimators=n_est, max_depth=11)\n",
        "  X, y = df_all_features[model_features + ['target movie_id']], df_all_features['target score']\n",
        "  get_average_score(X.drop('target movie_id', axis=1), y, model, n=n_est)\n",
        "  X_train, X_test, y_train, y_test = tts(X, y, test_size=0.2, random_state=42)\n",
        "  model.fit(X_train.drop('target movie_id', axis=1), y_train)\n",
        "  y_pred = model.predict(X_test.drop('target movie_id', axis=1))\n",
        "  rmse_res.append(math.sqrt(mse(y_test, y_pred)))\n",
        "  mae_res.append(mae(y_test, y_pred))\n",
        "  print(f'RMSE: {rmse_res[-1]}')\n",
        "  print(f' MAE: {mae_res[-1]}')\n",
        "  pickle.dump(model, open(outpath + 'gbdt_final' + str(n_est) + '.pkl', 'wb'))\n",
        "  print('Feature importances:')\n",
        "  for score, feature in sorted(zip(model.feature_importances_, model_features), reverse=True):\n",
        "    print(f'{round(score, 4)} {feature}')\n",
        "pickle.dump(rmse_res, open(outpath + 'rmse_res' + '.pkl', 'wb'))\n",
        "pickle.dump(mae_res, open(outpath + 'mae_res' + '.pkl', 'wb'))"
      ]
    },
    {
      "cell_type": "code",
      "execution_count": null,
      "metadata": {
        "colab": {
          "base_uri": "https://localhost:8080/",
          "height": 313
        },
        "id": "6me6O9T8ORxg",
        "outputId": "3d7dd986-388a-44f7-b985-2d36c202ce6a"
      },
      "outputs": [
        {
          "data": {
            "text/plain": [
              "<matplotlib.legend.Legend at 0x7fa983814580>"
            ]
          },
          "execution_count": 17,
          "metadata": {},
          "output_type": "execute_result"
        },
        {
          "data": {
            "image/png": "[encoded data removed]",
            "text/plain": [
              "<Figure size 432x288 with 1 Axes>"
            ]
          },
          "metadata": {
            "needs_background": "light"
          },
          "output_type": "display_data"
        }
      ],
      "source": [
        "plt.title('Evaluation metrics for ' + cf_model)\n",
        "plt.xlabel('Number of GBRT estimators')\n",
        "plt.plot(range(10, 101, 10), rmse_res, label='RMSE')\n",
        "plt.plot(range(10, 101, 10), mae_res, label='MAE')\n",
        "plt.legend()"
      ]
    }
  ],
  "metadata": {
    "accelerator": "GPU",
    "colab": {
      "collapsed_sections": [
        "RnOkaub7pBh9",
        "p4mewhD6OrNq",
        "nwOLUb_0Ox-J"
      ],
      "name": "NLP_Project(1).ipynb",
      "provenance": []
    },
    "kernelspec": {
      "display_name": "Python 3",
      "name": "python3"
    },
    "language_info": {
      "codemirror_mode": {
        "name": "ipython",
        "version": 3
      },
      "file_extension": ".py",
      "mimetype": "text/x-python",
      "name": "python",
      "nbconvert_exporter": "python",
      "pygments_lexer": "ipython3",
      "version": "3.9.7"
    }
  },
  "nbformat": 4,
  "nbformat_minor": 0
}