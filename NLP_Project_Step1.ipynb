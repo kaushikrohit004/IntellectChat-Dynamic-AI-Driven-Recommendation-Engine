{
  "cells": [
    {
      "cell_type": "markdown",
      "metadata": {
        "id": "b7sKGM2tOikK"
      },
      "source": [
        "## Installing / importing required libraries"
      ]
    },
    {
      "cell_type": "code",
      "execution_count": 48,
      "metadata": {
        "id": "G3UWn0j84RvI",
        "colab": {
          "base_uri": "https://localhost:8080/"
        },
        "outputId": "602e76e5-a0be-46b2-ee5c-28d084ae85f5"
      },
      "outputs": [
        {
          "output_type": "stream",
          "name": "stdout",
          "text": [
            "Requirement already satisfied: surprise in /usr/local/lib/python3.7/dist-packages (0.1)\n",
            "Requirement already satisfied: whoosh in /usr/local/lib/python3.7/dist-packages (2.7.4)\n",
            "Requirement already satisfied: sentence_transformers in /usr/local/lib/python3.7/dist-packages (2.2.0)\n",
            "Requirement already satisfied: scikit-surprise in /usr/local/lib/python3.7/dist-packages (from surprise) (1.1.1)\n",
            "Requirement already satisfied: torchvision in /usr/local/lib/python3.7/dist-packages (from sentence_transformers) (0.12.0+cu113)\n",
            "Requirement already satisfied: huggingface-hub in /usr/local/lib/python3.7/dist-packages (from sentence_transformers) (0.5.1)\n",
            "Requirement already satisfied: scipy in /usr/local/lib/python3.7/dist-packages (from sentence_transformers) (1.4.1)\n",
            "Requirement already satisfied: torch>=1.6.0 in /usr/local/lib/python3.7/dist-packages (from sentence_transformers) (1.11.0+cu113)\n",
            "Requirement already satisfied: transformers<5.0.0,>=4.6.0 in /usr/local/lib/python3.7/dist-packages (from sentence_transformers) (4.18.0)\n",
            "Requirement already satisfied: nltk in /usr/local/lib/python3.7/dist-packages (from sentence_transformers) (3.2.5)\n",
            "Requirement already satisfied: numpy in /usr/local/lib/python3.7/dist-packages (from sentence_transformers) (1.21.6)\n",
            "Requirement already satisfied: sentencepiece in /usr/local/lib/python3.7/dist-packages (from sentence_transformers) (0.1.96)\n",
            "Requirement already satisfied: scikit-learn in /usr/local/lib/python3.7/dist-packages (from sentence_transformers) (1.0.2)\n",
            "Requirement already satisfied: tqdm in /usr/local/lib/python3.7/dist-packages (from sentence_transformers) (4.64.0)\n",
            "Requirement already satisfied: typing-extensions in /usr/local/lib/python3.7/dist-packages (from torch>=1.6.0->sentence_transformers) (4.2.0)\n",
            "Requirement already satisfied: regex!=2019.12.17 in /usr/local/lib/python3.7/dist-packages (from transformers<5.0.0,>=4.6.0->sentence_transformers) (2019.12.20)\n",
            "Requirement already satisfied: requests in /usr/local/lib/python3.7/dist-packages (from transformers<5.0.0,>=4.6.0->sentence_transformers) (2.23.0)\n",
            "Requirement already satisfied: filelock in /usr/local/lib/python3.7/dist-packages (from transformers<5.0.0,>=4.6.0->sentence_transformers) (3.6.0)\n",
            "Requirement already satisfied: tokenizers!=0.11.3,<0.13,>=0.11.1 in /usr/local/lib/python3.7/dist-packages (from transformers<5.0.0,>=4.6.0->sentence_transformers) (0.12.1)\n",
            "Requirement already satisfied: pyyaml>=5.1 in /usr/local/lib/python3.7/dist-packages (from transformers<5.0.0,>=4.6.0->sentence_transformers) (6.0)\n",
            "Requirement already satisfied: packaging>=20.0 in /usr/local/lib/python3.7/dist-packages (from transformers<5.0.0,>=4.6.0->sentence_transformers) (21.3)\n",
            "Requirement already satisfied: sacremoses in /usr/local/lib/python3.7/dist-packages (from transformers<5.0.0,>=4.6.0->sentence_transformers) (0.0.53)\n",
            "Requirement already satisfied: importlib-metadata in /usr/local/lib/python3.7/dist-packages (from transformers<5.0.0,>=4.6.0->sentence_transformers) (4.11.3)\n",
            "Requirement already satisfied: pyparsing!=3.0.5,>=2.0.2 in /usr/local/lib/python3.7/dist-packages (from packaging>=20.0->transformers<5.0.0,>=4.6.0->sentence_transformers) (3.0.8)\n",
            "Requirement already satisfied: zipp>=0.5 in /usr/local/lib/python3.7/dist-packages (from importlib-metadata->transformers<5.0.0,>=4.6.0->sentence_transformers) (3.8.0)\n",
            "Requirement already satisfied: six in /usr/local/lib/python3.7/dist-packages (from nltk->sentence_transformers) (1.15.0)\n",
            "Requirement already satisfied: idna<3,>=2.5 in /usr/local/lib/python3.7/dist-packages (from requests->transformers<5.0.0,>=4.6.0->sentence_transformers) (2.10)\n",
            "Requirement already satisfied: chardet<4,>=3.0.2 in /usr/local/lib/python3.7/dist-packages (from requests->transformers<5.0.0,>=4.6.0->sentence_transformers) (3.0.4)\n",
            "Requirement already satisfied: urllib3!=1.25.0,!=1.25.1,<1.26,>=1.21.1 in /usr/local/lib/python3.7/dist-packages (from requests->transformers<5.0.0,>=4.6.0->sentence_transformers) (1.24.3)\n",
            "Requirement already satisfied: certifi>=2017.4.17 in /usr/local/lib/python3.7/dist-packages (from requests->transformers<5.0.0,>=4.6.0->sentence_transformers) (2021.10.8)\n",
            "Requirement already satisfied: click in /usr/local/lib/python3.7/dist-packages (from sacremoses->transformers<5.0.0,>=4.6.0->sentence_transformers) (7.1.2)\n",
            "Requirement already satisfied: joblib in /usr/local/lib/python3.7/dist-packages (from sacremoses->transformers<5.0.0,>=4.6.0->sentence_transformers) (1.1.0)\n",
            "Requirement already satisfied: threadpoolctl>=2.0.0 in /usr/local/lib/python3.7/dist-packages (from scikit-learn->sentence_transformers) (3.1.0)\n",
            "Requirement already satisfied: pillow!=8.3.*,>=5.3.0 in /usr/local/lib/python3.7/dist-packages (from torchvision->sentence_transformers) (7.1.2)\n"
          ]
        }
      ],
      "source": [
        "! pip install surprise whoosh sentence_transformers"
      ]
    },
    {
      "cell_type": "code",
      "execution_count": 49,
      "metadata": {
        "id": "D_vKcfl_44p7",
        "outputId": "0d779891-8cee-4dcc-82ac-48f9f42044c7",
        "colab": {
          "base_uri": "https://localhost:8080/"
        }
      },
      "outputs": [
        {
          "output_type": "stream",
          "name": "stdout",
          "text": [
            "Requirement already satisfied: pandas in /usr/local/lib/python3.7/dist-packages (1.3.5)\n",
            "Requirement already satisfied: matplotlib in /usr/local/lib/python3.7/dist-packages (3.2.2)\n",
            "Requirement already satisfied: scipy in /usr/local/lib/python3.7/dist-packages (1.4.1)\n",
            "Requirement already satisfied: scikit-learn in /usr/local/lib/python3.7/dist-packages (1.0.2)\n",
            "Requirement already satisfied: numpy>=1.17.3 in /usr/local/lib/python3.7/dist-packages (from pandas) (1.21.6)\n",
            "Requirement already satisfied: pytz>=2017.3 in /usr/local/lib/python3.7/dist-packages (from pandas) (2022.1)\n",
            "Requirement already satisfied: python-dateutil>=2.7.3 in /usr/local/lib/python3.7/dist-packages (from pandas) (2.8.2)\n",
            "Requirement already satisfied: six>=1.5 in /usr/local/lib/python3.7/dist-packages (from python-dateutil>=2.7.3->pandas) (1.15.0)\n",
            "Requirement already satisfied: kiwisolver>=1.0.1 in /usr/local/lib/python3.7/dist-packages (from matplotlib) (1.4.2)\n",
            "Requirement already satisfied: cycler>=0.10 in /usr/local/lib/python3.7/dist-packages (from matplotlib) (0.11.0)\n",
            "Requirement already satisfied: pyparsing!=2.0.4,!=2.1.2,!=2.1.6,>=2.0.1 in /usr/local/lib/python3.7/dist-packages (from matplotlib) (3.0.8)\n",
            "Requirement already satisfied: typing-extensions in /usr/local/lib/python3.7/dist-packages (from kiwisolver>=1.0.1->matplotlib) (4.2.0)\n",
            "Requirement already satisfied: threadpoolctl>=2.0.0 in /usr/local/lib/python3.7/dist-packages (from scikit-learn) (3.1.0)\n",
            "Requirement already satisfied: joblib>=0.11 in /usr/local/lib/python3.7/dist-packages (from scikit-learn) (1.1.0)\n"
          ]
        }
      ],
      "source": [
        "! pip install pandas matplotlib scipy scikit-learn"
      ]
    },
    {
      "cell_type": "code",
      "execution_count": 50,
      "metadata": {
        "id": "1gpakRw3Gs3L"
      },
      "outputs": [],
      "source": [
        "import math\n",
        "import os\n",
        "import pickle\n",
        "\n",
        "import json\n",
        "import logging\n",
        "import sys\n",
        "import time\n",
        "\n",
        "import numpy as np\n",
        "import pandas as pd\n",
        "from matplotlib import pyplot as plt\n",
        "from scipy import stats\n",
        "from sklearn.ensemble import GradientBoostingRegressor as GBRT\n",
        "from sklearn.ensemble import RandomForestRegressor as RFR\n",
        "from sklearn.metrics import mean_absolute_error as mae\n",
        "from sklearn.metrics import mean_squared_error as mse\n",
        "from sklearn.model_selection import train_test_split as tts\n",
        "\n",
        "from surprise import SVD, Dataset, KNNBaseline, Reader, SVDpp, KNNWithMeans, KNNWithZScore\n",
        "from tqdm import tqdm\n",
        "from tqdm.auto import tqdm as tqdm_pandas\n",
        "\n",
        "from sentence_transformers import SentenceTransformer\n",
        "from tqdm import trange, tqdm\n",
        "from whoosh import fields, index, qparser, scoring\n",
        "\n",
        "np.random.seed(42)\n",
        "plt.rcParams.update({'font.size': 10})"
      ]
    },
    {
      "cell_type": "markdown",
      "metadata": {
        "id": "RnOkaub7pBh9"
      },
      "source": [
        "## Mount google drive and set path for dataset"
      ]
    },
    {
      "cell_type": "code",
      "execution_count": 51,
      "metadata": {
        "colab": {
          "base_uri": "https://localhost:8080/"
        },
        "id": "u5SjM9rQ3ZNS",
        "outputId": "28cde3a5-e806-4b13-bfdb-b9499f5a8a29"
      },
      "outputs": [
        {
          "output_type": "stream",
          "name": "stdout",
          "text": [
            "Drive already mounted at /content/drive; to attempt to forcibly remount, call drive.mount(\"/content/drive\", force_remount=True).\n"
          ]
        }
      ],
      "source": [
        "from google.colab import drive\n",
        "drive.mount('/content/drive')\n",
        "DATAPATH = '/content/drive/MyDrive/SEM 2/NLP/Project/data/'\n",
        "\n",
        "# DATAPATH = 'data/'"
      ]
    },
    {
      "cell_type": "markdown",
      "metadata": {
        "id": "5XhpSV0Kj_0v"
      },
      "source": [
        "## True to train models\n",
        "## False to use preloaded models"
      ]
    },
    {
      "cell_type": "code",
      "execution_count": 52,
      "metadata": {
        "id": "OHREM7yEiZ_Y"
      },
      "outputs": [],
      "source": [
        "REGENERATE = True\n",
        "CREATE_INDEX = False"
      ]
    },
    {
      "cell_type": "markdown",
      "metadata": {
        "id": "GlRFeQK4j4BA"
      },
      "source": [
        "## Setting up schema and whoosh parser"
      ]
    },
    {
      "cell_type": "code",
      "execution_count": 53,
      "metadata": {
        "id": "Y75WT3cij2uO"
      },
      "outputs": [],
      "source": [
        "schema = fields.Schema(movie_id=fields.KEYWORD(stored=True, scorable=True),\n",
        "                       critic_id=fields.KEYWORD(stored=True, scorable=True),\n",
        "                       score=fields.NUMERIC(stored=True),\n",
        "                       review=fields.TEXT(stored=True),\n",
        "                       freshness=fields.KEYWORD(scorable=True))\n",
        "whoosh_parser = qparser.MultifieldParser(['movie_id', 'review'], schema=schema)\n",
        "try:\n",
        "    searcher = index.open_dir(DATAPATH + 'index').searcher(weighting=scoring.BM25F)\n",
        "except index.EmptyIndexError:\n",
        "    print(f'No index found in {DATAPATH} index')"
      ]
    },
    {
      "cell_type": "markdown",
      "metadata": {
        "id": "CqcdVEKpndX1"
      },
      "source": [
        "## Utility functions"
      ]
    },
    {
      "cell_type": "code",
      "execution_count": 54,
      "metadata": {
        "id": "-h9ViExqncXr"
      },
      "outputs": [],
      "source": [
        "def timeit(func):\n",
        "    def wrapper(*args, **kwargs):\n",
        "        start = time.time()\n",
        "        result = func(*args, **kwargs)\n",
        "        print(f'{func.__name__} took {round(time.time()-start)} seconds to complete')\n",
        "        return result\n",
        "    return wrapper\n",
        "\n",
        "def get_average_score(x, y, model, n=100):\n",
        "    rmses = []\n",
        "    maes = []\n",
        "    for _ in trange(n, leave=False, desc='running models'):\n",
        "        x_train, x_test, y_train, y_test = tts(x, y, test_size=0.1)\n",
        "        model.fit(x_train, y_train)\n",
        "        predictions = model.predict(x_test)\n",
        "        rmses.append(math.sqrt(mse(y_test, predictions)))\n",
        "        maes.append(mae(y_test, predictions))\n",
        "    rmses = np.array(rmses)\n",
        "    maes = np.array(maes)\n",
        "    print(f'getting average metrics on {n} {type(model).__name__}s')\n",
        "    print(f'avg RMSE: {round(rmses.mean(), 4)}, std: {round(np.std(rmses), 3)}')\n",
        "    print(f'avg MAE:  {round(maes.mean(), 4)}, std: {round(np.std(maes), 3)}')\n",
        "    return rmses"
      ]
    },
    {
      "cell_type": "markdown",
      "metadata": {
        "id": "FQUXH_2AoglW"
      },
      "source": [
        "## Model configurations"
      ]
    },
    {
      "cell_type": "code",
      "execution_count": 55,
      "metadata": {
        "id": "hxNGC8qlob-J"
      },
      "outputs": [],
      "source": [
        "model_features = ['cf_score',\n",
        "                  'difference',\n",
        "                  'dot_product',\n",
        "                  'meta_genre',\n",
        "                  'meta_people',\n",
        "                  'meta_description',\n",
        "                  'meta_title',\n",
        "                  'meta_runtime',\n",
        "                  'meta_date',\n",
        "                  'meta_audience_score',\n",
        "                  'meta_critics_score',\n",
        "                  'meta_amount_critics',\n",
        "                  'meta_amount_users']\n",
        "\n",
        "num_bert_feats = 1024\n",
        "bc = SentenceTransformer('stsb-roberta-large') \n",
        "cf_model = 'svd' #knn, knnzscore, svd, svdpp\n",
        "outpath = DATAPATH + '/model_artifacts/sentiment/'"
      ]
    },
    {
      "cell_type": "markdown",
      "metadata": {
        "id": "p4mewhD6OrNq"
      },
      "source": [
        "## Loading files"
      ]
    },
    {
      "cell_type": "code",
      "execution_count": 56,
      "metadata": {
        "id": "uEQVwwVtztsf"
      },
      "outputs": [],
      "source": [
        "conversations = json.load(open(DATAPATH + 'MovieSent.json', 'r'))\n",
        "movie_ids = json.load(open(DATAPATH + 'films_rt_ids.json', 'r'))\n",
        "movies_features = json.load(open(DATAPATH + 'films_features.json', 'r'))"
      ]
    },
    {
      "cell_type": "markdown",
      "metadata": {
        "id": "nwOLUb_0Ox-J"
      },
      "source": [
        "## creating indexes"
      ]
    },
    {
      "cell_type": "code",
      "execution_count": 57,
      "metadata": {
        "id": "HSeK51JQzygs"
      },
      "outputs": [],
      "source": [
        "@timeit\n",
        "def indexing(df, index_name=DATAPATH + 'index'):\n",
        "    os.makedirs(index_name, exist_ok=True)\n",
        "    ix = index.create_in(index_name, schema)\n",
        "    writer = ix.writer()\n",
        "    print('Indexing reviews')\n",
        "    for _, review in tqdm(df.iterrows(), total=df.shape[0], desc='adding reviews into index'):\n",
        "        writer.add_document(\n",
        "            movie_id=review['movie_id'],\n",
        "            critic_id=review['critic_id'],\n",
        "            review=review['review'],\n",
        "            score=review['score'])\n",
        "    print('Committing reviews. This will take a while')\n",
        "    writer.commit()\n",
        "    \n",
        "df = pd.read_table(DATAPATH + 'reviews.tsv')\n",
        "if CREATE_INDEX:\n",
        "  indexing(df)"
      ]
    },
    {
      "cell_type": "markdown",
      "metadata": {
        "id": "ethttBR4O12T"
      },
      "source": [
        "## Data engineering and cleaning"
      ]
    },
    {
      "cell_type": "code",
      "execution_count": 58,
      "metadata": {
        "id": "ZUHcW_P7H73T"
      },
      "outputs": [],
      "source": [
        "def entities_in_utterance(utterance):\n",
        "    \"\"\" extract entities from the utterance \"\"\"\n",
        "    if 'segments' not in utterance:\n",
        "        return set()\n",
        "    ents = set()\n",
        "    for segment in utterance['segments']:\n",
        "        entity_type = 'entityType' in segment['annotations'][0] and segment['annotations'][0]['entityType'] == 'MOVIE_OR_SERIES'\n",
        "        annotation_type = 'annotationType' in segment['annotations'][0] and segment['annotations'][0]['annotationType'] == 'ENTITY_NAME'\n",
        "        if entity_type and annotation_type:\n",
        "            if 'entityId' in segment['annotations'][0]:\n",
        "                ents.add(segment['annotations'][0]['entityId'])\n",
        "            else:\n",
        "                ents.add(segment['text'])\n",
        "    return ents\n",
        "\n",
        "\n",
        "def merge_utts(utterances):\n",
        "    \"\"\" merge utterances from the same speaker that apper in a row \"\"\"\n",
        "    cur_agent = utterances[0]['speaker']\n",
        "    result = ''\n",
        "    for utterance in utterances:\n",
        "        if utterance['speaker'] == cur_agent:\n",
        "            result += ' ' + utterance['text']\n",
        "        else:\n",
        "            result += ' ||| ' + utterance['text']\n",
        "            cur_agent = utterance['speaker']\n",
        "    return result.strip()\n",
        "\n",
        "\n",
        "def get_sentiment_from_utterance(utterance):\n",
        "    \"\"\" get the judge sentiment for the first entity in the utterance \"\"\"\n",
        "    for segment in utterance['segments']:\n",
        "        if 'annotations' in segment and 'sentiment' in segment['annotations'][0]:\n",
        "            intial_sentiment = segment['annotations'][0]['sentiment']\n",
        "            if np.isnan(intial_sentiment[0]):\n",
        "                return intial_sentiment[-1]\n",
        "            elif np.isnan(intial_sentiment[-1]):\n",
        "                return intial_sentiment[0]\n",
        "            return sum(intial_sentiment) / len(intial_sentiment)\n",
        "    print('sentiment not extracted from:', utterance)\n",
        "\n",
        "\n",
        "def sentiment_2_score(x):\n",
        "    \"\"\" convert [-3:+3] score to a [1:5] rating \"\"\"\n",
        "    try:\n",
        "        return round((2 * x + 9) / 3)\n",
        "    except Exception:\n",
        "        return np.nan\n",
        "\n",
        "\n",
        "def get_gbdt_conversations(conversations):\n",
        "    \"\"\" convert original json conversations into pandas df\n",
        "        and add estimated score\n",
        "    \"\"\"\n",
        "    zero_reviewed = []\n",
        "    for movie_id in movie_ids:\n",
        "        results = searcher.search(whoosh_parser.parse(f'movie_id:{movie_id}'), limit=None)\n",
        "        if len(results) == 0:\n",
        "            zero_reviewed.append(movie_id)\n",
        "\n",
        "    list_of_lines = []\n",
        "    for conversation in conversations:\n",
        "        entities = set()\n",
        "        line = {'critic_id': conversation['conversationId']}\n",
        "        for utterance in conversation['utterances']:\n",
        "            cur_ents = entities_in_utterance(utterance)\n",
        "            if utterance['speaker'] == 'USER' and 'segments' in utterance and len(cur_ents) == 1:\n",
        "                movie_id = list(cur_ents)[0]\n",
        "                movie_sentiment = sentiment_2_score(get_sentiment_from_utterance(utterance))\n",
        "                valid_id = movie_id not in entities and movie_id not in zero_reviewed and movie_id in movie_ids\n",
        "                valid_score = len(entities) < 2 or not np.isnan(movie_sentiment)\n",
        "                if valid_id and valid_score:\n",
        "                    if len(entities) == 0:\n",
        "                        line['first movie_id'] = movie_id\n",
        "                        line['first score'] = movie_sentiment\n",
        "                        line['first text'] = get_context(conversation, utterance)\n",
        "                    elif len(entities) == 1:\n",
        "                        line['second movie_id'] = movie_id\n",
        "                        line['second score'] = movie_sentiment\n",
        "                        line['second text'] = get_context(conversation, utterance)\n",
        "                        line['review'] = merge_utts(conversation['utterances'][:utterance['index'] + 1])\n",
        "                    elif len(entities) == 2:\n",
        "                        line['target movie_id'] = movie_id\n",
        "                        line['target score'] = movie_sentiment\n",
        "                        list_of_lines.append(line)\n",
        "                        break\n",
        "                    entities.add(movie_id)\n",
        "    return pd.DataFrame.from_records(list_of_lines)\n",
        "\n",
        "\n",
        "def get_context(conversation, utterance):\n",
        "    if utterance['index'] > 0 and conversation['utterances'][utterance['index'] - 1]['speaker'] == 'ASSISTANT':\n",
        "        text = conversation['utterances'][utterance['index'] - 1]['text'] + ' ||| ' + utterance['text']\n",
        "    else:\n",
        "        text = utterance['text']\n",
        "    return text\n"
      ]
    },
    {
      "cell_type": "markdown",
      "metadata": {
        "id": "2FiHwBeAO5Pq"
      },
      "source": [
        "## Training sentiment model"
      ]
    },
    {
      "cell_type": "code",
      "execution_count": 59,
      "metadata": {
        "id": "ziYc98MHH7wC"
      },
      "outputs": [],
      "source": [
        "def create_sentiment_trainset(file):\n",
        "    \"\"\" use utterances from conversations that can't be used\n",
        "        for the final model to train sentiment estimator on them\n",
        "    \"\"\"\n",
        "    forbidden_pairs = []\n",
        "    for column in ['first movie_id', 'second movie_id', 'target movie_id']:\n",
        "        forbidden_pairs += [list(i) for i in df_conv[['critic_id', column]].values]\n",
        "\n",
        "    list_of_lines = []\n",
        "    for conversation in conversations:\n",
        "        for utterance in conversation['utterances']:\n",
        "            line = {'critic_id': conversation['conversationId']}\n",
        "            cur_ents = entities_in_utterance(utterance)\n",
        "            if utterance['speaker'] == 'USER' and 'segments' in utterance and len(cur_ents) == 1:\n",
        "                movie_id = list(cur_ents)[0]\n",
        "                movie_sentiment = sentiment_2_score(get_sentiment_from_utterance(utterance))\n",
        "                if [conversation['conversationId'], movie_id] not in forbidden_pairs and not np.isnan(movie_sentiment):\n",
        "                    line['movie_id'] = movie_id\n",
        "                    line['score'] = movie_sentiment\n",
        "                    line['text'] = get_context(conversation, utterance)\n",
        "                    list_of_lines.append(line)\n",
        "    trainset = pd.DataFrame.from_records(list_of_lines)\n",
        "    trainset[['text', 'score']].to_csv(file, sep='\\t', index=False)\n",
        "\n",
        "\n",
        "@timeit\n",
        "def train_estimator(sentiment_df):\n",
        "\n",
        "    # embed the train dataset\n",
        "    emb_path = outpath + 'trainset_embeddings.txt'\n",
        "    if REGENERATE or not os.path.exists(model_path):\n",
        "        print('Calculating embeddings')\n",
        "        sentiment_estimation_embeddings = bc.encode(sentiment_df['text'].to_list())\n",
        "        print('Embeddings calculated')\n",
        "        np.savetxt(emb_path, sentiment_estimation_embeddings)\n",
        "    sentiment_estimation_embeddings = np.loadtxt(emb_path)\n",
        "\n",
        "    # remove those few conversations which have score 3 to reduce noise\n",
        "    indexes = sentiment_df[sentiment_df['score'] == 3].index.to_list()\n",
        "    sentiment_df = sentiment_df[sentiment_df['score'] != 3]\n",
        "    sentiment_estimation_embeddings = [i for ind, i in enumerate(sentiment_estimation_embeddings) if ind not in indexes]\n",
        "\n",
        "    print('Fitting the estimator')\n",
        "    x_train, x_test, y_train, y_test = tts(sentiment_estimation_embeddings, sentiment_df['score'], test_size=0.1)\n",
        "    model = RFR(n_estimators=500, max_depth=10, n_jobs=-1)\n",
        "    model.fit(x_train, y_train)\n",
        "    print('Estimator fitted')\n",
        "\n",
        "    pickle.dump(model, open(model_path, 'wb'))\n",
        "    y_pred = model.predict(x_test)\n",
        "    print(f'sentiment estimator RMSE: {round(math.sqrt(mse(y_test, y_pred)), 3)}')\n",
        "    print(f'sentiment estimator  MAE: {round(mae(y_test, y_pred), 3)}')\n",
        "    print(f'sentiment estimator  R^2: {round(model.score(x_test, y_test), 3)}')\n"
      ]
    },
    {
      "cell_type": "code",
      "execution_count": 60,
      "metadata": {
        "colab": {
          "base_uri": "https://localhost:8080/"
        },
        "id": "2tTxdPfPzSIO",
        "outputId": "ea61b97c-fbf7-4b93-a323-cf80117b282d"
      },
      "outputs": [
        {
          "output_type": "stream",
          "name": "stdout",
          "text": [
            "Calculating embeddings\n",
            "Embeddings calculated\n",
            "Fitting the estimator\n",
            "Estimator fitted\n",
            "sentiment estimator RMSE: 0.685\n",
            "sentiment estimator  MAE: 0.527\n",
            "sentiment estimator  R^2: 0.759\n",
            "train_estimator took 93 seconds to complete\n",
            "Encoding conversations\n",
            "Encoding done\n"
          ]
        }
      ],
      "source": [
        "df_conv = get_gbdt_conversations(conversations)\n",
        "model_path = outpath + 'estimator.pickle'\n",
        "trainset_path = outpath + 'trainset.tsv'\n",
        "\n",
        "os.makedirs(outpath, exist_ok=True)\n",
        "if REGENERATE or not os.path.exists(model_path):\n",
        "    if REGENERATE or not os.path.exists(trainset_path):\n",
        "        create_sentiment_trainset(trainset_path)\n",
        "    sentiment_df = pd.read_table(trainset_path)\n",
        "    train_estimator(sentiment_df)\n",
        "model = pickle.load(open(model_path, 'rb'))\n",
        "\n",
        "print('Encoding conversations')\n",
        "embeddings = bc.encode(df_conv['first text'].tolist() + df_conv['second text'].tolist(), show_progress_bar=False)\n",
        "df_conv['first score'] = model.predict(embeddings[:df_conv.shape[0]])\n",
        "df_conv['second score'] = model.predict(embeddings[df_conv.shape[0]:])\n",
        "print('Encoding done')\n",
        "\n",
        "df_conv.drop(['first text', 'second text'], axis=1, inplace=True)\n",
        "df_conv.to_csv(outpath + '/conversations_estimated.tsv', sep='\\t', index=False)"
      ]
    },
    {
      "cell_type": "markdown",
      "metadata": {
        "id": "TQxUEN2TO7uw"
      },
      "source": [
        "## Training CF model"
      ]
    },
    {
      "cell_type": "code",
      "execution_count": 61,
      "metadata": {
        "id": "4cfYb9wVII3c"
      },
      "outputs": [],
      "source": [
        "def get_ranked_critics(movie_id, text):\n",
        "    ''' returns dict of ranked according to text critics with BM25 weights '''\n",
        "    query = whoosh_parser.parse(f'movie_id:{movie_id} AND (review:' + ' OR review:'.join(text.split()) + ')')\n",
        "    initial_list = [(i['critic_id'], i.score) for i in searcher.search(query, limit=None)]\n",
        "    if len(initial_list) > 0:\n",
        "        biggest_weight = initial_list[0][1]\n",
        "        return {i[0]: i[1] / biggest_weight for i in initial_list}\n",
        "    print(f'found 0 bm25 reviews for {movie_id}')\n",
        "    return {}\n",
        "\n",
        "\n",
        "def get_movie_critic_representation(row):\n",
        "    '''\n",
        "        returns movie vector, created using embeddings\n",
        "        of critics' reviews' and their BM25 weights\n",
        "    '''\n",
        "    critics_dict = get_ranked_critics(row.movie_id, row.review)\n",
        "    subdf = critics_reviews[critics_reviews['movie_id'] == row.movie_id]\n",
        "    subsubdf = subdf[subdf['critic_id'].isin(critics_dict.keys())]\n",
        "    if len(critics_dict) > 0:\n",
        "        encodings = bc.encode(subsubdf['review'].to_list(), show_progress_bar=False)\n",
        "        weights = [critics_dict[name] for name in subsubdf['critic_id'].to_list()]\n",
        "        weights = np.array(weights).reshape((len(weights), 1))\n",
        "        return (encodings * weights).mean(axis=0)\n",
        "    return np.zeros(num_bert_feats)\n",
        "\n",
        "\n",
        "@timeit\n",
        "def train_cf(df, model):\n",
        "    reader = Reader(rating_scale=(1, 5))\n",
        "    print('training ' + model)\n",
        "    if model == 'knn':\n",
        "        algo = KNNBaseline(sim_options={'name': 'cosine', 'user_based': True}, verbose=False)\n",
        "    elif model == 'knnmeans':\n",
        "        algo = KNNWithMeans(sim_options={'name': 'cosine', 'user_based': True}, verbose=False)\n",
        "    elif model == 'knnzscore':\n",
        "        algo = KNNWithZScore(sim_options={'name': 'cosine', 'user_based': True}, verbose=False)\n",
        "    elif model == 'svd':\n",
        "        algo = SVD(n_factors=500)\n",
        "    elif model == 'svdpp':\n",
        "        algo = SVDpp(n_factors=500, n_epochs = 1)\n",
        "    data_train = Dataset.load_from_df(df, reader)\n",
        "    algo.fit(data_train.build_full_trainset())\n",
        "    pickle.dump(algo, open(outpath + f'cf_{model}.pkl', 'wb'))\n",
        "\n",
        "\n",
        "def convert_to_cf_matrix(df):\n",
        "    ''' converts df_users into a standard records cf matrix '''\n",
        "    result = pd.DataFrame()\n",
        "    for number in ['first', 'second']:\n",
        "        temp = df[['critic_id', number + ' movie_id', number + ' score']].drop_duplicates()\n",
        "        temp = temp.rename(columns={number + ' movie_id': 'movie_id', number + ' score': 'score'})\n",
        "        result = result.append(temp)\n",
        "    return result\n",
        "\n",
        "\n",
        "def get_cf_feature(df, model, REGENERATE):\n",
        "    if not os.path.exists(outpath + 'cf.pkl') or REGENERATE:\n",
        "        df_users_cf = convert_to_cf_matrix(df)\n",
        "        df_cf = critics_reviews[['critic_id', 'movie_id', 'score']].append(df_users_cf).reset_index(drop=True).dropna()\n",
        "        train_cf(df_cf, model)\n",
        "    cf = pickle.load(open(outpath + f'cf_{model}.pkl', 'rb'))\n",
        "\n",
        "    df['cf_score'] = df.apply(lambda x: cf.predict(x['critic_id'], x['target movie_id']).est, axis=1)\n",
        "    print(f\"RMSE for CF: {math.sqrt(mse(df['cf_score'], df['target score']))}\")\n",
        "    print(f\" MAE for CF: {mae(df['cf_score'], df['target score'])}\")\n",
        "    df.to_csv(outpath + 'conversations_w_cf.tsv', sep='\\t', index=False)\n",
        "\n",
        "\n",
        "@timeit\n",
        "def get_users_emb(df, each_turn='full_text'):\n",
        "    '''\n",
        "        options for embedding calculation:\n",
        "            each_turn: takes the average embedding of turns' embeddings\n",
        "            full_text: takes the embedding of all text concatenated\n",
        "    '''\n",
        "    print('getting user embedding')\n",
        "    columns = [f'user_{i}' for i in range(num_bert_feats)]\n",
        "    if each_turn == 'each_turn':\n",
        "        embedded = [bc.encode(i, show_progress_bar=False).mean(axis=0) for i in df['review'].progress_apply(lambda x: x.split(' ||| ')).to_list()]\n",
        "        user_emb = pd.DataFrame.from_records(embedded, columns=columns)\n",
        "    else:\n",
        "        user_emb = pd.DataFrame.from_records(bc.encode(df['review'].to_list(), show_progress_bar=False), columns=columns)\n",
        "    user_emb.to_csv(outpath + f'users_emb_{each_turn}.tsv', sep='\\t', index=False)\n",
        "\n",
        "\n",
        "@timeit\n",
        "def get_critics_emb(df):\n",
        "    print('getting critic embedding')\n",
        "    tqdm_pandas.pandas(desc='critics_emb')\n",
        "    df_tmp = df.rename(columns={'target movie_id': 'movie_id'}).reset_index(drop=True)\n",
        "    df_tmp = df_tmp.progress_apply(get_movie_critic_representation, axis=1)\n",
        "    critics_emb = pd.DataFrame.from_records(df_tmp, columns=[f'critics_emb_{i}' for i in range(num_bert_feats)])\n",
        "    critics_emb.to_csv(outpath + 'critics_emb.tsv', sep='\\t', index=False)\n",
        "\n",
        "\n",
        "@timeit\n",
        "def get_metadata_features(df, user_vectors):\n",
        "    print('getting metadata features')\n",
        "    new_feats = []\n",
        "    for i, user in enumerate(tqdm(user_vectors, desc='metadata features')):\n",
        "        row = df.iloc[i].copy()\n",
        "        current_movie_features = movies_features[row['target movie_id']]\n",
        "        for feature in ['genre', 'people', 'description', 'title']:\n",
        "            if feature not in current_movie_features or current_movie_features[feature] == []:\n",
        "                print(f\"no {feature} for {row['target movie_id']}\")\n",
        "        if 'audience_score' not in current_movie_features or 'critic_score' not in current_movie_features:\n",
        "            print('no scores for ', row['target movie_id'])\n",
        "            row['meta_audience_score'] = np.nan\n",
        "            row['meta_critics_score'] = np.nan\n",
        "        else:\n",
        "            row['meta_audience_score'] = current_movie_features['audience_score'] / 100\n",
        "            row['meta_critics_score'] = current_movie_features['critic_score'] / 100\n",
        "\n",
        "        to_encode = [', '.join(current_movie_features['genre']),\n",
        "                     ', '.join(current_movie_features['people'][:10]),\n",
        "                     current_movie_features['description'],\n",
        "                     current_movie_features['title']]\n",
        "        for i in range(len(to_encode)):\n",
        "            if len(to_encode[i]) == 0:\n",
        "                to_encode[i] = 'None'\n",
        "        genre_vector, people_vector, descr_vector, title_vector = bc.encode(to_encode, show_progress_bar=False)\n",
        "\n",
        "        row['meta_date'] = current_movie_features['in theaters']\n",
        "        row['meta_runtime'] = current_movie_features['runtime']\n",
        "        row['meta_amount_critics'] = current_movie_features['amount of critics']\n",
        "        row['meta_amount_users'] = current_movie_features['amount of users']\n",
        "        row['meta_genre'] = np.dot(user, np.transpose(genre_vector))\n",
        "        row['meta_people'] = np.dot(user, np.transpose(people_vector))\n",
        "        row['meta_description'] = np.dot(user, np.transpose(descr_vector))\n",
        "        row['meta_title'] = np.dot(user, np.transpose(title_vector))\n",
        "        new_feats.append(row)\n",
        "    return pd.DataFrame.from_records(new_feats)\n",
        "\n",
        "\n",
        "def get_all_features(df_users, model, regenerate=False):\n",
        "    \"\"\" prepare a dataframe with all the features \"\"\"\n",
        "\n",
        "    print('generating data')\n",
        "    if not os.path.exists(outpath + 'conversations_w_cf.tsv') or regenerate:\n",
        "        get_cf_feature(df_users, model, regenerate)\n",
        "    if not os.path.exists(outpath + 'users_emb_full_text.tsv') or regenerate:\n",
        "        get_users_emb(df_users)\n",
        "    if not os.path.exists(outpath + 'critics_emb.tsv') or regenerate:\n",
        "        get_critics_emb(df_users)\n",
        "\n",
        "    df_users = pd.read_table(outpath + 'conversations_w_cf.tsv')\n",
        "    user_vectors = pd.read_table(outpath + 'users_emb_full_text.tsv').values.tolist()\n",
        "    critics_vectors = pd.read_table(outpath + 'critics_emb.tsv').values.tolist()\n",
        "\n",
        "    earth_movers_distance = [[stats.wasserstein_distance(critics_vectors[i], user)] for i, user in enumerate(user_vectors)]\n",
        "    dot_product = [[np.dot(user, np.transpose(critics_vectors[i]))] for i, user in enumerate(user_vectors)]\n",
        "    emd_df = pd.DataFrame.from_records(earth_movers_distance, columns=['difference'])\n",
        "    dp_df = pd.DataFrame.from_records(dot_product, columns=['dot_product'])\n",
        "\n",
        "    df_users = pd.concat([df_users.reset_index(drop=True), emd_df, dp_df], axis=1)\n",
        "    df_all_features = get_metadata_features(df_users, user_vectors)\n",
        "    df_all_features.to_csv(df_all_features_path, sep='\\t', index=False)"
      ]
    },
    {
      "cell_type": "markdown",
      "metadata": {
        "id": "va-pZf8iO_Fk"
      },
      "source": [
        "## GBRT/Final recommender model"
      ]
    },
    {
      "cell_type": "code",
      "execution_count": 62,
      "metadata": {
        "colab": {
          "base_uri": "https://localhost:8080/",
          "height": 1000,
          "referenced_widgets": [
            "d4450b1bc27c43cf97490769e2d4aec3",
            "1e00cefacc4743858b01ca842696c526",
            "447f36ea64d04a1aa86d76ffafdf6c62",
            "4409017ddc954084933d3ff0658ab5a0",
            "9de91187e6f045e592782ba01f6b1491",
            "d79a537c7fce4fd098a2e00f2716182f",
            "2df2ac0fd63c47eeb2ccdc878af1d166",
            "7bc09be913624d7097df3ec27556a98b",
            "0a98194cacea4a4cbe5a5f6b8f779ec9",
            "3b8021e5262e4aa6a4559d7026afa02e",
            "3b7e0c798cef47f39c055e771365d8cd"
          ]
        },
        "id": "1TpQ9VOTzK6w",
        "outputId": "1b761f55-879b-4e19-c33b-6541e70e6dba"
      },
      "outputs": [
        {
          "output_type": "stream",
          "name": "stdout",
          "text": [
            "generating data\n",
            "training svd\n",
            "train_cf took 234 seconds to complete\n",
            "RMSE for CF: 1.2012458269134811\n",
            " MAE for CF: 0.9710729021712049\n",
            "getting user embedding\n",
            "get_users_emb took 6 seconds to complete\n",
            "getting critic embedding\n"
          ]
        },
        {
          "output_type": "display_data",
          "data": {
            "text/plain": [
              "critics_emb:   0%|          | 0/236 [00:00<?, ?it/s]"
            ],
            "application/vnd.jupyter.widget-view+json": {
              "version_major": 2,
              "version_minor": 0,
              "model_id": "d4450b1bc27c43cf97490769e2d4aec3"
            }
          },
          "metadata": {}
        },
        {
          "output_type": "stream",
          "name": "stdout",
          "text": [
            "get_critics_emb took 420 seconds to complete\n",
            "getting metadata features\n"
          ]
        },
        {
          "output_type": "stream",
          "name": "stderr",
          "text": [
            "metadata features:  69%|██████▊   | 162/236 [00:16<00:06, 10.95it/s]"
          ]
        },
        {
          "output_type": "stream",
          "name": "stdout",
          "text": [
            "no people for star_wars_episode_vii_the_force_awakens\n"
          ]
        },
        {
          "output_type": "stream",
          "name": "stderr",
          "text": [
            "metadata features: 100%|██████████| 236/236 [00:23<00:00,  9.98it/s]\n"
          ]
        },
        {
          "output_type": "stream",
          "name": "stdout",
          "text": [
            "get_metadata_features took 24 seconds to complete\n"
          ]
        },
        {
          "output_type": "stream",
          "name": "stderr",
          "text": [
            ""
          ]
        },
        {
          "output_type": "stream",
          "name": "stdout",
          "text": [
            "getting average metrics on 10 GradientBoostingRegressors\n",
            "avg RMSE: 1.1363, std: 0.156\n",
            "avg MAE:  0.8692, std: 0.133\n",
            "RMSE: 1.0632015700435271\n",
            " MAE: 0.8013597921931804\n",
            "Feature importances:\n"
          ]
        },
        {
          "output_type": "stream",
          "name": "stderr",
          "text": [
            ""
          ]
        },
        {
          "output_type": "stream",
          "name": "stdout",
          "text": [
            "getting average metrics on 20 GradientBoostingRegressors\n",
            "avg RMSE: 1.1318, std: 0.146\n",
            "avg MAE:  0.8671, std: 0.12\n",
            "RMSE: 1.0941508506758564\n",
            " MAE: 0.8078029367802225\n",
            "Feature importances:\n"
          ]
        },
        {
          "output_type": "stream",
          "name": "stderr",
          "text": [
            ""
          ]
        },
        {
          "output_type": "stream",
          "name": "stdout",
          "text": [
            "getting average metrics on 30 GradientBoostingRegressors\n",
            "avg RMSE: 1.1082, std: 0.179\n",
            "avg MAE:  0.8635, std: 0.155\n",
            "RMSE: 1.1306228906257239\n",
            " MAE: 0.830173181150518\n",
            "Feature importances:\n"
          ]
        },
        {
          "output_type": "stream",
          "name": "stderr",
          "text": [
            ""
          ]
        },
        {
          "output_type": "stream",
          "name": "stdout",
          "text": [
            "getting average metrics on 40 GradientBoostingRegressors\n",
            "avg RMSE: 1.1519, std: 0.148\n",
            "avg MAE:  0.9006, std: 0.153\n",
            "RMSE: 1.147467121009039\n",
            " MAE: 0.8650455853908846\n",
            "Feature importances:\n"
          ]
        },
        {
          "output_type": "stream",
          "name": "stderr",
          "text": [
            ""
          ]
        },
        {
          "output_type": "stream",
          "name": "stdout",
          "text": [
            "getting average metrics on 50 GradientBoostingRegressors\n",
            "avg RMSE: 1.1547, std: 0.162\n",
            "avg MAE:  0.8925, std: 0.142\n",
            "RMSE: 1.1651002335063847\n",
            " MAE: 0.8929447269385125\n",
            "Feature importances:\n"
          ]
        },
        {
          "output_type": "stream",
          "name": "stderr",
          "text": [
            ""
          ]
        },
        {
          "output_type": "stream",
          "name": "stdout",
          "text": [
            "getting average metrics on 60 GradientBoostingRegressors\n",
            "avg RMSE: 1.2148, std: 0.167\n",
            "avg MAE:  0.9528, std: 0.154\n",
            "RMSE: 1.1921816965133158\n",
            " MAE: 0.9096288313536101\n",
            "Feature importances:\n"
          ]
        },
        {
          "output_type": "stream",
          "name": "stderr",
          "text": [
            ""
          ]
        },
        {
          "output_type": "stream",
          "name": "stdout",
          "text": [
            "getting average metrics on 70 GradientBoostingRegressors\n",
            "avg RMSE: 1.203, std: 0.165\n",
            "avg MAE:  0.9493, std: 0.15\n",
            "RMSE: 1.223528542337204\n",
            " MAE: 0.9365311890303968\n",
            "Feature importances:\n"
          ]
        },
        {
          "output_type": "stream",
          "name": "stderr",
          "text": [
            ""
          ]
        },
        {
          "output_type": "stream",
          "name": "stdout",
          "text": [
            "getting average metrics on 80 GradientBoostingRegressors\n",
            "avg RMSE: 1.1979, std: 0.169\n",
            "avg MAE:  0.9483, std: 0.147\n",
            "RMSE: 1.219849292389035\n",
            " MAE: 0.9383154722244239\n",
            "Feature importances:\n"
          ]
        },
        {
          "output_type": "stream",
          "name": "stderr",
          "text": [
            ""
          ]
        },
        {
          "output_type": "stream",
          "name": "stdout",
          "text": [
            "getting average metrics on 90 GradientBoostingRegressors\n",
            "avg RMSE: 1.1782, std: 0.163\n",
            "avg MAE:  0.9227, std: 0.14\n",
            "RMSE: 1.2398863508940172\n",
            " MAE: 0.9491929698807304\n",
            "Feature importances:\n"
          ]
        },
        {
          "output_type": "stream",
          "name": "stderr",
          "text": [
            ""
          ]
        },
        {
          "output_type": "stream",
          "name": "stdout",
          "text": [
            "getting average metrics on 100 GradientBoostingRegressors\n",
            "avg RMSE: 1.1667, std: 0.157\n",
            "avg MAE:  0.9199, std: 0.138\n",
            "RMSE: 1.2503138284849395\n",
            " MAE: 0.9456702181801715\n",
            "Feature importances:\n"
          ]
        },
        {
          "output_type": "display_data",
          "data": {
            "text/plain": [
              "<Figure size 1800x720 with 10 Axes>"
            ],
            "image/png": "[encoded data removed]"
          },
          "metadata": {
            "needs_background": "light"
          }
        }
      ],
      "source": [
        "critics_reviews = pd.read_table(DATAPATH + 'reviews.tsv').drop(['fresh'], axis=1).dropna()\n",
        "\n",
        "df_users = pd.read_table(outpath + 'conversations_estimated.tsv')\n",
        "df_users = df_users[df_users['target movie_id'].isin(movies_features)]\n",
        "\n",
        "df_all_features_path = outpath + 'conversations_w_features.tsv'\n",
        "if not os.path.exists(df_all_features_path) or REGENERATE:\n",
        "    get_all_features(df_users, cf_model, REGENERATE)\n",
        "df_all_features = pd.read_table(df_all_features_path)\n",
        "\n",
        "rmse_res, mae_res = [], []\n",
        "\n",
        "counter = 0\n",
        "fig, axs = plt.subplots(2, 5, figsize=(25, 10), sharex= True)\n",
        "axs = axs.flatten()\n",
        "\n",
        "\n",
        "for n_est in range(10, 101, 10): \n",
        "  model = GBRT(n_estimators=n_est, max_depth=3)\n",
        "  X, y = df_all_features[model_features + ['target movie_id']], df_all_features['target score']\n",
        "  get_average_score(X.drop('target movie_id', axis=1), y, model, n=n_est)\n",
        "  X_train, X_test, y_train, y_test = tts(X, y, test_size=0.2, random_state=42)\n",
        "  model.fit(X_train.drop('target movie_id', axis=1), y_train)\n",
        "  y_pred = model.predict(X_test.drop('target movie_id', axis=1))\n",
        "  rmse_res.append(math.sqrt(mse(y_test, y_pred)))\n",
        "  mae_res.append(mae(y_test, y_pred))\n",
        "  print(f'RMSE: {rmse_res[-1]}')\n",
        "  print(f' MAE: {mae_res[-1]}')\n",
        "  pickle.dump(model, open(outpath + 'gbdt' + str(n_est) + '.pkl', 'wb'))\n",
        "\n",
        "\n",
        "  features = []\n",
        "  importances = []\n",
        "  print('Feature importances:')\n",
        "  for score, feature in sorted(zip(model.feature_importances_, model_features), reverse=True):\n",
        "    # print(f'{round(score, 4)} {feature}')\n",
        "    importances.append(score)\n",
        "    features.append(feature)\n",
        "\n",
        "  axs[counter].bar(features, importances)\n",
        "  axs[counter].set_title('Estimators: ' + str(n_est))\n",
        "  plt.setp(axs[counter].get_xticklabels(), rotation = 45, horizontalalignment = 'right')\n",
        "  fig.suptitle('Feature Importances for svdpp')\n",
        "  # plt.bar(features, importances)\n",
        "  counter += 1"
      ]
    },
    {
      "cell_type": "code",
      "execution_count": 64,
      "metadata": {
        "colab": {
          "base_uri": "https://localhost:8080/",
          "height": 312
        },
        "id": "6me6O9T8ORxg",
        "outputId": "5d57bf5b-fd49-4265-f504-f9a3f2ab35f9"
      },
      "outputs": [
        {
          "output_type": "execute_result",
          "data": {
            "text/plain": [
              "<matplotlib.legend.Legend at 0x7f7d6eb8cf90>"
            ]
          },
          "metadata": {},
          "execution_count": 64
        },
        {
          "output_type": "display_data",
          "data": {
            "text/plain": [
              "<Figure size 432x288 with 1 Axes>"
            ],
            "image/png": "[encoded data removed]"
          },
          "metadata": {
            "needs_background": "light"
          }
        }
      ],
      "source": [
        "plt.title('Evaluation metrics for ' + cf_model)\n",
        "plt.xlabel('Number of GBRT estimators')\n",
        "plt.plot(range(10, 101, 10), rmse_res, label='RMSE')\n",
        "plt.plot(range(10, 101, 10), mae_res, label='MAE')\n",
        "plt.legend()"
      ]
    }
  ],
  "metadata": {
    "accelerator": "GPU",
    "colab": {
      "collapsed_sections": [
        "p4mewhD6OrNq"
      ],
      "name": "NLP_Project_Step1.ipynb",
      "provenance": []
    },
    "kernelspec": {
      "display_name": "Python 3",
      "name": "python3"
    },
    "language_info": {
      "codemirror_mode": {
        "name": "ipython",
        "version": 3
      },
      "file_extension": ".py",
      "mimetype": "text/x-python",
      "name": "python",
      "nbconvert_exporter": "python",
      "pygments_lexer": "ipython3",
      "version": "3.6.9"
    },
    "widgets": {
      "application/vnd.jupyter.widget-state+json": {
        "d4450b1bc27c43cf97490769e2d4aec3": {
          "model_module": "@jupyter-widgets/controls",
          "model_name": "HBoxModel",
          "model_module_version": "1.5.0",
          "state": {
            "_dom_classes": [],
            "_model_module": "@jupyter-widgets/controls",
            "_model_module_version": "1.5.0",
            "_model_name": "HBoxModel",
            "_view_count": null,
            "_view_module": "@jupyter-widgets/controls",
            "_view_module_version": "1.5.0",
            "_view_name": "HBoxView",
            "box_style": "",
            "children": [
              "IPY_MODEL_1e00cefacc4743858b01ca842696c526",
              "IPY_MODEL_447f36ea64d04a1aa86d76ffafdf6c62",
              "IPY_MODEL_4409017ddc954084933d3ff0658ab5a0"
            ],
            "layout": "IPY_MODEL_9de91187e6f045e592782ba01f6b1491"
          }
        },
        "1e00cefacc4743858b01ca842696c526": {
          "model_module": "@jupyter-widgets/controls",
          "model_name": "HTMLModel",
          "model_module_version": "1.5.0",
          "state": {
            "_dom_classes": [],
            "_model_module": "@jupyter-widgets/controls",
            "_model_module_version": "1.5.0",
            "_model_name": "HTMLModel",
            "_view_count": null,
            "_view_module": "@jupyter-widgets/controls",
            "_view_module_version": "1.5.0",
            "_view_name": "HTMLView",
            "description": "",
            "description_tooltip": null,
            "layout": "IPY_MODEL_d79a537c7fce4fd098a2e00f2716182f",
            "placeholder": "​",
            "style": "IPY_MODEL_2df2ac0fd63c47eeb2ccdc878af1d166",
            "value": "critics_emb: 100%"
          }
        },
        "447f36ea64d04a1aa86d76ffafdf6c62": {
          "model_module": "@jupyter-widgets/controls",
          "model_name": "FloatProgressModel",
          "model_module_version": "1.5.0",
          "state": {
            "_dom_classes": [],
            "_model_module": "@jupyter-widgets/controls",
            "_model_module_version": "1.5.0",
            "_model_name": "FloatProgressModel",
            "_view_count": null,
            "_view_module": "@jupyter-widgets/controls",
            "_view_module_version": "1.5.0",
            "_view_name": "ProgressView",
            "bar_style": "success",
            "description": "",
            "description_tooltip": null,
            "layout": "IPY_MODEL_7bc09be913624d7097df3ec27556a98b",
            "max": 236,
            "min": 0,
            "orientation": "horizontal",
            "style": "IPY_MODEL_0a98194cacea4a4cbe5a5f6b8f779ec9",
            "value": 236
          }
        },
        "4409017ddc954084933d3ff0658ab5a0": {
          "model_module": "@jupyter-widgets/controls",
          "model_name": "HTMLModel",
          "model_module_version": "1.5.0",
          "state": {
            "_dom_classes": [],
            "_model_module": "@jupyter-widgets/controls",
            "_model_module_version": "1.5.0",
            "_model_name": "HTMLModel",
            "_view_count": null,
            "_view_module": "@jupyter-widgets/controls",
            "_view_module_version": "1.5.0",
            "_view_name": "HTMLView",
            "description": "",
            "description_tooltip": null,
            "layout": "IPY_MODEL_3b8021e5262e4aa6a4559d7026afa02e",
            "placeholder": "​",
            "style": "IPY_MODEL_3b7e0c798cef47f39c055e771365d8cd",
            "value": " 236/236 [06:59&lt;00:00,  1.77s/it]"
          }
        },
        "9de91187e6f045e592782ba01f6b1491": {
          "model_module": "@jupyter-widgets/base",
          "model_name": "LayoutModel",
          "model_module_version": "1.2.0",
          "state": {
            "_model_module": "@jupyter-widgets/base",
            "_model_module_version": "1.2.0",
            "_model_name": "LayoutModel",
            "_view_count": null,
            "_view_module": "@jupyter-widgets/base",
            "_view_module_version": "1.2.0",
            "_view_name": "LayoutView",
            "align_content": null,
            "align_items": null,
            "align_self": null,
            "border": null,
            "bottom": null,
            "display": null,
            "flex": null,
            "flex_flow": null,
            "grid_area": null,
            "grid_auto_columns": null,
            "grid_auto_flow": null,
            "grid_auto_rows": null,
            "grid_column": null,
            "grid_gap": null,
            "grid_row": null,
            "grid_template_areas": null,
            "grid_template_columns": null,
            "grid_template_rows": null,
            "height": null,
            "justify_content": null,
            "justify_items": null,
            "left": null,
            "margin": null,
            "max_height": null,
            "max_width": null,
            "min_height": null,
            "min_width": null,
            "object_fit": null,
            "object_position": null,
            "order": null,
            "overflow": null,
            "overflow_x": null,
            "overflow_y": null,
            "padding": null,
            "right": null,
            "top": null,
            "visibility": null,
            "width": null
          }
        },
        "d79a537c7fce4fd098a2e00f2716182f": {
          "model_module": "@jupyter-widgets/base",
          "model_name": "LayoutModel",
          "model_module_version": "1.2.0",
          "state": {
            "_model_module": "@jupyter-widgets/base",
            "_model_module_version": "1.2.0",
            "_model_name": "LayoutModel",
            "_view_count": null,
            "_view_module": "@jupyter-widgets/base",
            "_view_module_version": "1.2.0",
            "_view_name": "LayoutView",
            "align_content": null,
            "align_items": null,
            "align_self": null,
            "border": null,
            "bottom": null,
            "display": null,
            "flex": null,
            "flex_flow": null,
            "grid_area": null,
            "grid_auto_columns": null,
            "grid_auto_flow": null,
            "grid_auto_rows": null,
            "grid_column": null,
            "grid_gap": null,
            "grid_row": null,
            "grid_template_areas": null,
            "grid_template_columns": null,
            "grid_template_rows": null,
            "height": null,
            "justify_content": null,
            "justify_items": null,
            "left": null,
            "margin": null,
            "max_height": null,
            "max_width": null,
            "min_height": null,
            "min_width": null,
            "object_fit": null,
            "object_position": null,
            "order": null,
            "overflow": null,
            "overflow_x": null,
            "overflow_y": null,
            "padding": null,
            "right": null,
            "top": null,
            "visibility": null,
            "width": null
          }
        },
        "2df2ac0fd63c47eeb2ccdc878af1d166": {
          "model_module": "@jupyter-widgets/controls",
          "model_name": "DescriptionStyleModel",
          "model_module_version": "1.5.0",
          "state": {
            "_model_module": "@jupyter-widgets/controls",
            "_model_module_version": "1.5.0",
            "_model_name": "DescriptionStyleModel",
            "_view_count": null,
            "_view_module": "@jupyter-widgets/base",
            "_view_module_version": "1.2.0",
            "_view_name": "StyleView",
            "description_width": ""
          }
        },
        "7bc09be913624d7097df3ec27556a98b": {
          "model_module": "@jupyter-widgets/base",
          "model_name": "LayoutModel",
          "model_module_version": "1.2.0",
          "state": {
            "_model_module": "@jupyter-widgets/base",
            "_model_module_version": "1.2.0",
            "_model_name": "LayoutModel",
            "_view_count": null,
            "_view_module": "@jupyter-widgets/base",
            "_view_module_version": "1.2.0",
            "_view_name": "LayoutView",
            "align_content": null,
            "align_items": null,
            "align_self": null,
            "border": null,
            "bottom": null,
            "display": null,
            "flex": null,
            "flex_flow": null,
            "grid_area": null,
            "grid_auto_columns": null,
            "grid_auto_flow": null,
            "grid_auto_rows": null,
            "grid_column": null,
            "grid_gap": null,
            "grid_row": null,
            "grid_template_areas": null,
            "grid_template_columns": null,
            "grid_template_rows": null,
            "height": null,
            "justify_content": null,
            "justify_items": null,
            "left": null,
            "margin": null,
            "max_height": null,
            "max_width": null,
            "min_height": null,
            "min_width": null,
            "object_fit": null,
            "object_position": null,
            "order": null,
            "overflow": null,
            "overflow_x": null,
            "overflow_y": null,
            "padding": null,
            "right": null,
            "top": null,
            "visibility": null,
            "width": null
          }
        },
        "0a98194cacea4a4cbe5a5f6b8f779ec9": {
          "model_module": "@jupyter-widgets/controls",
          "model_name": "ProgressStyleModel",
          "model_module_version": "1.5.0",
          "state": {
            "_model_module": "@jupyter-widgets/controls",
            "_model_module_version": "1.5.0",
            "_model_name": "ProgressStyleModel",
            "_view_count": null,
            "_view_module": "@jupyter-widgets/base",
            "_view_module_version": "1.2.0",
            "_view_name": "StyleView",
            "bar_color": null,
            "description_width": ""
          }
        },
        "3b8021e5262e4aa6a4559d7026afa02e": {
          "model_module": "@jupyter-widgets/base",
          "model_name": "LayoutModel",
          "model_module_version": "1.2.0",
          "state": {
            "_model_module": "@jupyter-widgets/base",
            "_model_module_version": "1.2.0",
            "_model_name": "LayoutModel",
            "_view_count": null,
            "_view_module": "@jupyter-widgets/base",
            "_view_module_version": "1.2.0",
            "_view_name": "LayoutView",
            "align_content": null,
            "align_items": null,
            "align_self": null,
            "border": null,
            "bottom": null,
            "display": null,
            "flex": null,
            "flex_flow": null,
            "grid_area": null,
            "grid_auto_columns": null,
            "grid_auto_flow": null,
            "grid_auto_rows": null,
            "grid_column": null,
            "grid_gap": null,
            "grid_row": null,
            "grid_template_areas": null,
            "grid_template_columns": null,
            "grid_template_rows": null,
            "height": null,
            "justify_content": null,
            "justify_items": null,
            "left": null,
            "margin": null,
            "max_height": null,
            "max_width": null,
            "min_height": null,
            "min_width": null,
            "object_fit": null,
            "object_position": null,
            "order": null,
            "overflow": null,
            "overflow_x": null,
            "overflow_y": null,
            "padding": null,
            "right": null,
            "top": null,
            "visibility": null,
            "width": null
          }
        },
        "3b7e0c798cef47f39c055e771365d8cd": {
          "model_module": "@jupyter-widgets/controls",
          "model_name": "DescriptionStyleModel",
          "model_module_version": "1.5.0",
          "state": {
            "_model_module": "@jupyter-widgets/controls",
            "_model_module_version": "1.5.0",
            "_model_name": "DescriptionStyleModel",
            "_view_count": null,
            "_view_module": "@jupyter-widgets/base",
            "_view_module_version": "1.2.0",
            "_view_name": "StyleView",
            "description_width": ""
          }
        }
      }
    }
  },
  "nbformat": 4,
  "nbformat_minor": 0
}